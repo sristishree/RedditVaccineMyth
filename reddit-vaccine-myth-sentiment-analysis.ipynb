{
 "cells": [
  {
   "cell_type": "markdown",
   "id": "b486c685",
   "metadata": {
    "papermill": {
     "duration": 0.029999,
     "end_time": "2021-10-05T20:15:45.772685",
     "exception": false,
     "start_time": "2021-10-05T20:15:45.742686",
     "status": "completed"
    },
    "tags": []
   },
   "source": [
    "# Reddit Vaccine Myth Sentiment Analysis\n",
    "\n",
    "## Introduction\n",
    "\n",
    "According to the description of this dataset, r/VaccineMyths is a subreddit where myths related to various vaccines are discussed.\n",
    "\n",
    "It contains both posts and comments.\n",
    "The sturcture of this dataset can be understood by these fields:\n",
    "- title - relevant for posts\n",
    "- score - relevant for posts - based on impact, number of comments\n",
    "- id - unique id for posts/comments\n",
    "- url - relevant for posts - url of post thread\n",
    "- commns_num - relevant for post - number of comments to this post\n",
    "- created - date of creation\n",
    "- body - relevant for posts/comments - text of the post or comment\n",
    "- timestamp - timestamp\n",
    "\n",
    "Our task is to perform sentiment analysis and then topic modeling on this dataset.\n",
    "The topic modeling will be particularly helpful for the medical study of this dataset, because it will let us better understand what are the factors that are related to the originating of particular types of myths surrouding the vaccines."
   ]
  },
  {
   "cell_type": "code",
   "execution_count": 1,
   "id": "59ba0523",
   "metadata": {
    "_cell_guid": "b1076dfc-b9ad-4769-8c92-a6c4dae69d19",
    "_uuid": "8f2839f25d086af736a60e9eeb907d3b93b6e0e5",
    "execution": {
     "iopub.execute_input": "2021-10-05T20:15:45.845844Z",
     "iopub.status.busy": "2021-10-05T20:15:45.843790Z",
     "iopub.status.idle": "2021-10-05T20:15:46.854288Z",
     "shell.execute_reply": "2021-10-05T20:15:46.853573Z",
     "shell.execute_reply.started": "2021-10-05T20:08:31.108825Z"
    },
    "papermill": {
     "duration": 1.050325,
     "end_time": "2021-10-05T20:15:46.854478",
     "exception": false,
     "start_time": "2021-10-05T20:15:45.804153",
     "status": "completed"
    },
    "tags": []
   },
   "outputs": [
    {
     "name": "stdout",
     "output_type": "stream",
     "text": [
      "/kaggle/input/reddit-vaccine-myths/reddit_vm.csv\n"
     ]
    }
   ],
   "source": [
    "import numpy as np # linear algebra\n",
    "import pandas as pd # data processing, CSV file I/O (e.g. pd.read_csv)\n",
    "import matplotlib.pyplot as plt\n",
    "import seaborn as sns\n",
    "\n",
    "import os\n",
    "for dirname, _, filenames in os.walk('/kaggle/input'):\n",
    "    for filename in filenames:\n",
    "        print(os.path.join(dirname, filename))\n",
    "dataset_path = os.path.join(dirname, filenames[0])"
   ]
  },
  {
   "cell_type": "code",
   "execution_count": 2,
   "id": "39c1d82e",
   "metadata": {
    "execution": {
     "iopub.execute_input": "2021-10-05T20:15:46.919838Z",
     "iopub.status.busy": "2021-10-05T20:15:46.919085Z",
     "iopub.status.idle": "2021-10-05T20:15:46.921757Z",
     "shell.execute_reply": "2021-10-05T20:15:46.922290Z",
     "shell.execute_reply.started": "2021-10-05T20:08:31.275683Z"
    },
    "papermill": {
     "duration": 0.038262,
     "end_time": "2021-10-05T20:15:46.922496",
     "exception": false,
     "start_time": "2021-10-05T20:15:46.884234",
     "status": "completed"
    },
    "tags": []
   },
   "outputs": [],
   "source": [
    "# Class for decorated printing\n",
    "# Source: https://stackoverflow.com/a/17303428\n",
    "class color:\n",
    "   PURPLE = '\\033[95m'\n",
    "   CYAN = '\\033[96m'\n",
    "   DARKCYAN = '\\033[36m'\n",
    "   BLUE = '\\033[94m'\n",
    "   GREEN = '\\033[92m'\n",
    "   YELLOW = '\\033[93m'\n",
    "   RED = '\\033[91m'\n",
    "   BOLD = '\\033[1m'\n",
    "   UNDERLINE = '\\033[4m'\n",
    "   END = '\\033[0m'"
   ]
  },
  {
   "cell_type": "code",
   "execution_count": 3,
   "id": "a0503b76",
   "metadata": {
    "execution": {
     "iopub.execute_input": "2021-10-05T20:15:46.985778Z",
     "iopub.status.busy": "2021-10-05T20:15:46.984977Z",
     "iopub.status.idle": "2021-10-05T20:15:47.060067Z",
     "shell.execute_reply": "2021-10-05T20:15:47.060621Z",
     "shell.execute_reply.started": "2021-10-05T20:08:31.472022Z"
    },
    "papermill": {
     "duration": 0.110466,
     "end_time": "2021-10-05T20:15:47.060809",
     "exception": false,
     "start_time": "2021-10-05T20:15:46.950343",
     "status": "completed"
    },
    "tags": []
   },
   "outputs": [
    {
     "data": {
      "text/html": [
       "<div>\n",
       "<style scoped>\n",
       "    .dataframe tbody tr th:only-of-type {\n",
       "        vertical-align: middle;\n",
       "    }\n",
       "\n",
       "    .dataframe tbody tr th {\n",
       "        vertical-align: top;\n",
       "    }\n",
       "\n",
       "    .dataframe thead th {\n",
       "        text-align: right;\n",
       "    }\n",
       "</style>\n",
       "<table border=\"1\" class=\"dataframe\">\n",
       "  <thead>\n",
       "    <tr style=\"text-align: right;\">\n",
       "      <th></th>\n",
       "      <th>title</th>\n",
       "      <th>score</th>\n",
       "      <th>id</th>\n",
       "      <th>url</th>\n",
       "      <th>comms_num</th>\n",
       "      <th>created</th>\n",
       "      <th>body</th>\n",
       "      <th>timestamp</th>\n",
       "    </tr>\n",
       "  </thead>\n",
       "  <tbody>\n",
       "    <tr>\n",
       "      <th>1267</th>\n",
       "      <td>Comment</td>\n",
       "      <td>1</td>\n",
       "      <td>f1a4v79</td>\n",
       "      <td>NaN</td>\n",
       "      <td>0</td>\n",
       "      <td>1.569285e+09</td>\n",
       "      <td>I'm not sure what you are talking about or why...</td>\n",
       "      <td>2019-09-24 03:34:07</td>\n",
       "    </tr>\n",
       "    <tr>\n",
       "      <th>1221</th>\n",
       "      <td>Comment</td>\n",
       "      <td>1</td>\n",
       "      <td>f5jw82b</td>\n",
       "      <td>NaN</td>\n",
       "      <td>0</td>\n",
       "      <td>1.572244e+09</td>\n",
       "      <td>Because you were supposed to get a vaccine for...</td>\n",
       "      <td>2019-10-28 08:23:00</td>\n",
       "    </tr>\n",
       "    <tr>\n",
       "      <th>633</th>\n",
       "      <td>Comment</td>\n",
       "      <td>1</td>\n",
       "      <td>h4hdljf</td>\n",
       "      <td>NaN</td>\n",
       "      <td>0</td>\n",
       "      <td>1.625758e+09</td>\n",
       "      <td>Every week on Wednesdays</td>\n",
       "      <td>2021-07-08 18:23:20</td>\n",
       "    </tr>\n",
       "    <tr>\n",
       "      <th>281</th>\n",
       "      <td>Wasn't vaccinated as a child</td>\n",
       "      <td>20</td>\n",
       "      <td>ac21o2</td>\n",
       "      <td>https://www.reddit.com/r/VaccineMyths/comments...</td>\n",
       "      <td>24</td>\n",
       "      <td>1.546491e+09</td>\n",
       "      <td>My mom is EXTREMELY anti-vax, and swears that ...</td>\n",
       "      <td>2019-01-03 06:41:44</td>\n",
       "    </tr>\n",
       "    <tr>\n",
       "      <th>963</th>\n",
       "      <td>Comment</td>\n",
       "      <td>-2</td>\n",
       "      <td>fgsj6ne</td>\n",
       "      <td>NaN</td>\n",
       "      <td>0</td>\n",
       "      <td>1.581086e+09</td>\n",
       "      <td>Well, that's besides the point.\\n\\nIs trusting...</td>\n",
       "      <td>2020-02-07 16:28:07</td>\n",
       "    </tr>\n",
       "    <tr>\n",
       "      <th>605</th>\n",
       "      <td>Vaccines Are Just Asping For Trouble</td>\n",
       "      <td>1</td>\n",
       "      <td>1v3brt</td>\n",
       "      <td>http://i.imgur.com/bIPQpbv.jpg</td>\n",
       "      <td>1</td>\n",
       "      <td>1.389596e+09</td>\n",
       "      <td>NaN</td>\n",
       "      <td>2014-01-13 08:47:31</td>\n",
       "    </tr>\n",
       "    <tr>\n",
       "      <th>322</th>\n",
       "      <td>Mother is forcing me to go see \"VAXXED\" in the...</td>\n",
       "      <td>15</td>\n",
       "      <td>4nir8v</td>\n",
       "      <td>https://www.reddit.com/r/VaccineMyths/comments...</td>\n",
       "      <td>9</td>\n",
       "      <td>1.465597e+09</td>\n",
       "      <td>My mother is adamantly an anti-vaxxer and I've...</td>\n",
       "      <td>2016-06-11 01:15:43</td>\n",
       "    </tr>\n",
       "    <tr>\n",
       "      <th>737</th>\n",
       "      <td>Comment</td>\n",
       "      <td>1</td>\n",
       "      <td>grx2pze</td>\n",
       "      <td>NaN</td>\n",
       "      <td>0</td>\n",
       "      <td>1.616500e+09</td>\n",
       "      <td>SARS-1 and MERS dont exist any more so why sho...</td>\n",
       "      <td>2021-03-23 13:49:48</td>\n",
       "    </tr>\n",
       "    <tr>\n",
       "      <th>291</th>\n",
       "      <td>Uh, what?!? From an anti-vax millennial on my ...</td>\n",
       "      <td>20</td>\n",
       "      <td>7gb4ep</td>\n",
       "      <td>https://i.redd.it/1g7m6rrxvu001.jpg</td>\n",
       "      <td>3</td>\n",
       "      <td>1.511936e+09</td>\n",
       "      <td>NaN</td>\n",
       "      <td>2017-11-29 08:10:21</td>\n",
       "    </tr>\n",
       "    <tr>\n",
       "      <th>543</th>\n",
       "      <td>\"The CDC and FDA are not credible sources\" use...</td>\n",
       "      <td>9</td>\n",
       "      <td>1wi8lz</td>\n",
       "      <td>http://www.np.reddit.com/r/worldnews/comments/...</td>\n",
       "      <td>2</td>\n",
       "      <td>1.391037e+09</td>\n",
       "      <td>NaN</td>\n",
       "      <td>2014-01-30 01:08:04</td>\n",
       "    </tr>\n",
       "  </tbody>\n",
       "</table>\n",
       "</div>"
      ],
      "text/plain": [
       "                                                  title  score       id  \\\n",
       "1267                                            Comment      1  f1a4v79   \n",
       "1221                                            Comment      1  f5jw82b   \n",
       "633                                             Comment      1  h4hdljf   \n",
       "281                        Wasn't vaccinated as a child     20   ac21o2   \n",
       "963                                             Comment     -2  fgsj6ne   \n",
       "605                Vaccines Are Just Asping For Trouble      1   1v3brt   \n",
       "322   Mother is forcing me to go see \"VAXXED\" in the...     15   4nir8v   \n",
       "737                                             Comment      1  grx2pze   \n",
       "291   Uh, what?!? From an anti-vax millennial on my ...     20   7gb4ep   \n",
       "543   \"The CDC and FDA are not credible sources\" use...      9   1wi8lz   \n",
       "\n",
       "                                                    url  comms_num  \\\n",
       "1267                                                NaN          0   \n",
       "1221                                                NaN          0   \n",
       "633                                                 NaN          0   \n",
       "281   https://www.reddit.com/r/VaccineMyths/comments...         24   \n",
       "963                                                 NaN          0   \n",
       "605                      http://i.imgur.com/bIPQpbv.jpg          1   \n",
       "322   https://www.reddit.com/r/VaccineMyths/comments...          9   \n",
       "737                                                 NaN          0   \n",
       "291                 https://i.redd.it/1g7m6rrxvu001.jpg          3   \n",
       "543   http://www.np.reddit.com/r/worldnews/comments/...          2   \n",
       "\n",
       "           created                                               body  \\\n",
       "1267  1.569285e+09  I'm not sure what you are talking about or why...   \n",
       "1221  1.572244e+09  Because you were supposed to get a vaccine for...   \n",
       "633   1.625758e+09                           Every week on Wednesdays   \n",
       "281   1.546491e+09  My mom is EXTREMELY anti-vax, and swears that ...   \n",
       "963   1.581086e+09  Well, that's besides the point.\\n\\nIs trusting...   \n",
       "605   1.389596e+09                                                NaN   \n",
       "322   1.465597e+09  My mother is adamantly an anti-vaxxer and I've...   \n",
       "737   1.616500e+09  SARS-1 and MERS dont exist any more so why sho...   \n",
       "291   1.511936e+09                                                NaN   \n",
       "543   1.391037e+09                                                NaN   \n",
       "\n",
       "                timestamp  \n",
       "1267  2019-09-24 03:34:07  \n",
       "1221  2019-10-28 08:23:00  \n",
       "633   2021-07-08 18:23:20  \n",
       "281   2019-01-03 06:41:44  \n",
       "963   2020-02-07 16:28:07  \n",
       "605   2014-01-13 08:47:31  \n",
       "322   2016-06-11 01:15:43  \n",
       "737   2021-03-23 13:49:48  \n",
       "291   2017-11-29 08:10:21  \n",
       "543   2014-01-30 01:08:04  "
      ]
     },
     "execution_count": 3,
     "metadata": {},
     "output_type": "execute_result"
    }
   ],
   "source": [
    "# Read data\n",
    "df = pd.read_csv(dataset_path)\n",
    "# Print top 5 rows\n",
    "df.sample(10)"
   ]
  },
  {
   "cell_type": "markdown",
   "id": "fe327e4b",
   "metadata": {
    "papermill": {
     "duration": 0.029006,
     "end_time": "2021-10-05T20:15:47.119285",
     "exception": false,
     "start_time": "2021-10-05T20:15:47.090279",
     "status": "completed"
    },
    "tags": []
   },
   "source": [
    "### Exploratory Data Analysis\n",
    "\n",
    "I have written some reusable utility functions for the EDA"
   ]
  },
  {
   "cell_type": "code",
   "execution_count": 4,
   "id": "488fbcf4",
   "metadata": {
    "execution": {
     "iopub.execute_input": "2021-10-05T20:15:47.184606Z",
     "iopub.status.busy": "2021-10-05T20:15:47.182675Z",
     "iopub.status.idle": "2021-10-05T20:15:47.188420Z",
     "shell.execute_reply": "2021-10-05T20:15:47.187867Z",
     "shell.execute_reply.started": "2021-10-05T20:08:31.807829Z"
    },
    "papermill": {
     "duration": 0.038669,
     "end_time": "2021-10-05T20:15:47.188613",
     "exception": false,
     "start_time": "2021-10-05T20:15:47.149944",
     "status": "completed"
    },
    "tags": []
   },
   "outputs": [
    {
     "name": "stdout",
     "output_type": "stream",
     "text": [
      "Shape of dataset: (1585, 8)\n"
     ]
    }
   ],
   "source": [
    "# Shape of dataset\n",
    "print(f'Shape of dataset: {df.shape}')"
   ]
  },
  {
   "cell_type": "code",
   "execution_count": 5,
   "id": "89a87686",
   "metadata": {
    "execution": {
     "iopub.execute_input": "2021-10-05T20:15:47.251660Z",
     "iopub.status.busy": "2021-10-05T20:15:47.250563Z",
     "iopub.status.idle": "2021-10-05T20:15:47.258033Z",
     "shell.execute_reply": "2021-10-05T20:15:47.258651Z",
     "shell.execute_reply.started": "2021-10-05T20:08:31.951356Z"
    },
    "papermill": {
     "duration": 0.040794,
     "end_time": "2021-10-05T20:15:47.258843",
     "exception": false,
     "start_time": "2021-10-05T20:15:47.218049",
     "status": "completed"
    },
    "tags": []
   },
   "outputs": [],
   "source": [
    "def basic_information(df):\n",
    "    print(color.PURPLE + color.BOLD + 'Description: \\n' + color.END)\n",
    "    display(df.describe())\n",
    "    print(color.PURPLE + color.BOLD + '\\nInformation: \\n' + color.END)\n",
    "    display(df.info())\n",
    "    print(color.PURPLE + color.BOLD + '\\nNaN Values: \\n' + color.END)\n",
    "    display(pd.isna(df).sum())\n",
    "    print(color.PURPLE + color.BOLD + '\\nDuplicate rows: \\n' + color.END)\n",
    "    # display(df.duplicated().value_counts())\n",
    "    display(df[df.duplicated()])"
   ]
  },
  {
   "cell_type": "code",
   "execution_count": 6,
   "id": "55288c4c",
   "metadata": {
    "execution": {
     "iopub.execute_input": "2021-10-05T20:15:47.325756Z",
     "iopub.status.busy": "2021-10-05T20:15:47.324708Z",
     "iopub.status.idle": "2021-10-05T20:15:47.328310Z",
     "shell.execute_reply": "2021-10-05T20:15:47.327719Z",
     "shell.execute_reply.started": "2021-10-05T20:08:32.127489Z"
    },
    "papermill": {
     "duration": 0.040389,
     "end_time": "2021-10-05T20:15:47.328478",
     "exception": false,
     "start_time": "2021-10-05T20:15:47.288089",
     "status": "completed"
    },
    "tags": []
   },
   "outputs": [],
   "source": [
    "def feature_type(df):\n",
    "    '''\n",
    "    This function finds which features in given dataframe \n",
    "    are of categorical type and which are numerical\n",
    "    \n",
    "    Input - df:Dataframe\n",
    "    Output - categorical_features:list, numerical_features:list \n",
    "    '''\n",
    "    categorical_features = []\n",
    "    numerical_features = []\n",
    "    \n",
    "    for column in df.columns:\n",
    "        if df[column].dtype == object:\n",
    "            categorical_features.append(column)\n",
    "        else:\n",
    "            numerical_features.append(column)\n",
    "            \n",
    "    return categorical_features, numerical_features"
   ]
  },
  {
   "cell_type": "code",
   "execution_count": 7,
   "id": "f7c3bad8",
   "metadata": {
    "execution": {
     "iopub.execute_input": "2021-10-05T20:15:47.392039Z",
     "iopub.status.busy": "2021-10-05T20:15:47.390766Z",
     "iopub.status.idle": "2021-10-05T20:15:47.457242Z",
     "shell.execute_reply": "2021-10-05T20:15:47.457943Z",
     "shell.execute_reply.started": "2021-10-05T20:08:32.307848Z"
    },
    "papermill": {
     "duration": 0.10031,
     "end_time": "2021-10-05T20:15:47.458142",
     "exception": false,
     "start_time": "2021-10-05T20:15:47.357832",
     "status": "completed"
    },
    "tags": []
   },
   "outputs": [
    {
     "name": "stdout",
     "output_type": "stream",
     "text": [
      "\u001b[95m\u001b[1mDescription: \n",
      "\u001b[0m\n"
     ]
    },
    {
     "data": {
      "text/html": [
       "<div>\n",
       "<style scoped>\n",
       "    .dataframe tbody tr th:only-of-type {\n",
       "        vertical-align: middle;\n",
       "    }\n",
       "\n",
       "    .dataframe tbody tr th {\n",
       "        vertical-align: top;\n",
       "    }\n",
       "\n",
       "    .dataframe thead th {\n",
       "        text-align: right;\n",
       "    }\n",
       "</style>\n",
       "<table border=\"1\" class=\"dataframe\">\n",
       "  <thead>\n",
       "    <tr style=\"text-align: right;\">\n",
       "      <th></th>\n",
       "      <th>score</th>\n",
       "      <th>comms_num</th>\n",
       "      <th>created</th>\n",
       "    </tr>\n",
       "  </thead>\n",
       "  <tbody>\n",
       "    <tr>\n",
       "      <th>count</th>\n",
       "      <td>1585.000000</td>\n",
       "      <td>1585.000000</td>\n",
       "      <td>1.585000e+03</td>\n",
       "    </tr>\n",
       "    <tr>\n",
       "      <th>mean</th>\n",
       "      <td>3.686435</td>\n",
       "      <td>1.851735</td>\n",
       "      <td>1.546237e+09</td>\n",
       "    </tr>\n",
       "    <tr>\n",
       "      <th>std</th>\n",
       "      <td>30.027315</td>\n",
       "      <td>16.221715</td>\n",
       "      <td>7.076341e+07</td>\n",
       "    </tr>\n",
       "    <tr>\n",
       "      <th>min</th>\n",
       "      <td>-12.000000</td>\n",
       "      <td>0.000000</td>\n",
       "      <td>1.389595e+09</td>\n",
       "    </tr>\n",
       "    <tr>\n",
       "      <th>25%</th>\n",
       "      <td>1.000000</td>\n",
       "      <td>0.000000</td>\n",
       "      <td>1.554325e+09</td>\n",
       "    </tr>\n",
       "    <tr>\n",
       "      <th>50%</th>\n",
       "      <td>1.000000</td>\n",
       "      <td>0.000000</td>\n",
       "      <td>1.569120e+09</td>\n",
       "    </tr>\n",
       "    <tr>\n",
       "      <th>75%</th>\n",
       "      <td>3.000000</td>\n",
       "      <td>1.000000</td>\n",
       "      <td>1.583789e+09</td>\n",
       "    </tr>\n",
       "    <tr>\n",
       "      <th>max</th>\n",
       "      <td>1185.000000</td>\n",
       "      <td>596.000000</td>\n",
       "      <td>1.631878e+09</td>\n",
       "    </tr>\n",
       "  </tbody>\n",
       "</table>\n",
       "</div>"
      ],
      "text/plain": [
       "             score    comms_num       created\n",
       "count  1585.000000  1585.000000  1.585000e+03\n",
       "mean      3.686435     1.851735  1.546237e+09\n",
       "std      30.027315    16.221715  7.076341e+07\n",
       "min     -12.000000     0.000000  1.389595e+09\n",
       "25%       1.000000     0.000000  1.554325e+09\n",
       "50%       1.000000     0.000000  1.569120e+09\n",
       "75%       3.000000     1.000000  1.583789e+09\n",
       "max    1185.000000   596.000000  1.631878e+09"
      ]
     },
     "metadata": {},
     "output_type": "display_data"
    },
    {
     "name": "stdout",
     "output_type": "stream",
     "text": [
      "\u001b[95m\u001b[1m\n",
      "Information: \n",
      "\u001b[0m\n",
      "<class 'pandas.core.frame.DataFrame'>\n",
      "RangeIndex: 1585 entries, 0 to 1584\n",
      "Data columns (total 8 columns):\n",
      " #   Column     Non-Null Count  Dtype  \n",
      "---  ------     --------------  -----  \n",
      " 0   title      1585 non-null   object \n",
      " 1   score      1585 non-null   int64  \n",
      " 2   id         1585 non-null   object \n",
      " 3   url        464 non-null    object \n",
      " 4   comms_num  1585 non-null   int64  \n",
      " 5   created    1585 non-null   float64\n",
      " 6   body       1213 non-null   object \n",
      " 7   timestamp  1585 non-null   object \n",
      "dtypes: float64(1), int64(2), object(5)\n",
      "memory usage: 99.2+ KB\n"
     ]
    },
    {
     "data": {
      "text/plain": [
       "None"
      ]
     },
     "metadata": {},
     "output_type": "display_data"
    },
    {
     "name": "stdout",
     "output_type": "stream",
     "text": [
      "\u001b[95m\u001b[1m\n",
      "NaN Values: \n",
      "\u001b[0m\n"
     ]
    },
    {
     "data": {
      "text/plain": [
       "title           0\n",
       "score           0\n",
       "id              0\n",
       "url          1121\n",
       "comms_num       0\n",
       "created         0\n",
       "body          372\n",
       "timestamp       0\n",
       "dtype: int64"
      ]
     },
     "metadata": {},
     "output_type": "display_data"
    },
    {
     "name": "stdout",
     "output_type": "stream",
     "text": [
      "\u001b[95m\u001b[1m\n",
      "Duplicate rows: \n",
      "\u001b[0m\n"
     ]
    },
    {
     "data": {
      "text/html": [
       "<div>\n",
       "<style scoped>\n",
       "    .dataframe tbody tr th:only-of-type {\n",
       "        vertical-align: middle;\n",
       "    }\n",
       "\n",
       "    .dataframe tbody tr th {\n",
       "        vertical-align: top;\n",
       "    }\n",
       "\n",
       "    .dataframe thead th {\n",
       "        text-align: right;\n",
       "    }\n",
       "</style>\n",
       "<table border=\"1\" class=\"dataframe\">\n",
       "  <thead>\n",
       "    <tr style=\"text-align: right;\">\n",
       "      <th></th>\n",
       "      <th>title</th>\n",
       "      <th>score</th>\n",
       "      <th>id</th>\n",
       "      <th>url</th>\n",
       "      <th>comms_num</th>\n",
       "      <th>created</th>\n",
       "      <th>body</th>\n",
       "      <th>timestamp</th>\n",
       "    </tr>\n",
       "  </thead>\n",
       "  <tbody>\n",
       "  </tbody>\n",
       "</table>\n",
       "</div>"
      ],
      "text/plain": [
       "Empty DataFrame\n",
       "Columns: [title, score, id, url, comms_num, created, body, timestamp]\n",
       "Index: []"
      ]
     },
     "metadata": {},
     "output_type": "display_data"
    }
   ],
   "source": [
    "basic_information(df)"
   ]
  },
  {
   "cell_type": "code",
   "execution_count": 8,
   "id": "0ebf0bfd",
   "metadata": {
    "execution": {
     "iopub.execute_input": "2021-10-05T20:15:47.528219Z",
     "iopub.status.busy": "2021-10-05T20:15:47.527151Z",
     "iopub.status.idle": "2021-10-05T20:15:47.535047Z",
     "shell.execute_reply": "2021-10-05T20:15:47.534438Z",
     "shell.execute_reply.started": "2021-10-05T20:08:32.483426Z"
    },
    "papermill": {
     "duration": 0.04421,
     "end_time": "2021-10-05T20:15:47.535202",
     "exception": false,
     "start_time": "2021-10-05T20:15:47.490992",
     "status": "completed"
    },
    "tags": []
   },
   "outputs": [
    {
     "name": "stdout",
     "output_type": "stream",
     "text": [
      "\u001b[95m\u001b[1mCategorical Features: \u001b[0m['title', 'id', 'url', 'body', 'timestamp']\n",
      "\u001b[95m\u001b[1mCategorical Features: \u001b[0m['title', 'id', 'url', 'body', 'timestamp']\n"
     ]
    }
   ],
   "source": [
    "categorical_features, numerical_features = feature_type(df)\n",
    "print(color.PURPLE + color.BOLD + 'Categorical Features: ' + color.END + f'{categorical_features}')\n",
    "print(color.PURPLE + color.BOLD + 'Categorical Features: ' + color.END + f'{categorical_features}')"
   ]
  },
  {
   "cell_type": "markdown",
   "id": "2a380e0d",
   "metadata": {
    "papermill": {
     "duration": 0.032932,
     "end_time": "2021-10-05T20:15:47.601203",
     "exception": false,
     "start_time": "2021-10-05T20:15:47.568271",
     "status": "completed"
    },
    "tags": []
   },
   "source": [
    "From here, we can see the basic statistical details of the dataset\n",
    "We can observe that the columns **url** and **body** contain null data.\n",
    "Also the dataset contains categorical as well as numerical features."
   ]
  },
  {
   "cell_type": "markdown",
   "id": "67d4ca55",
   "metadata": {
    "papermill": {
     "duration": 0.033884,
     "end_time": "2021-10-05T20:15:47.668006",
     "exception": false,
     "start_time": "2021-10-05T20:15:47.634122",
     "status": "completed"
    },
    "tags": []
   },
   "source": [
    "## Visualizing patterns in the occurrence of missing values\n",
    "\n",
    "Here we would like to see if there is some pattern in the occurrence of the missing values of a column or not. For eg. Are missing values sparsely localted all over the domain, or just located together somewhere specifically as a chunk.\n",
    "\n",
    "With a heatmap, we would also be able to observe if there is any positive or negative co-occurrence relation between missing values of different columns."
   ]
  },
  {
   "cell_type": "code",
   "execution_count": 9,
   "id": "a617e530",
   "metadata": {
    "execution": {
     "iopub.execute_input": "2021-10-05T20:15:47.742757Z",
     "iopub.status.busy": "2021-10-05T20:15:47.742049Z",
     "iopub.status.idle": "2021-10-05T20:15:48.361909Z",
     "shell.execute_reply": "2021-10-05T20:15:48.362469Z",
     "shell.execute_reply.started": "2021-10-05T20:08:33.409381Z"
    },
    "papermill": {
     "duration": 0.661401,
     "end_time": "2021-10-05T20:15:48.362681",
     "exception": false,
     "start_time": "2021-10-05T20:15:47.701280",
     "status": "completed"
    },
    "tags": []
   },
   "outputs": [
    {
     "data": {
      "text/plain": [
       "Text(0.5, 1.0, 'Heatmap of missing data pattern')"
      ]
     },
     "execution_count": 9,
     "metadata": {},
     "output_type": "execute_result"
    },
    {
     "data": {
      "image/png": "[encoded data removed]",
      "text/plain": [
       "<Figure size 504x504 with 1 Axes>"
      ]
     },
     "metadata": {
      "needs_background": "light"
     },
     "output_type": "display_data"
    }
   ],
   "source": [
    "# Visualizing patterns in the occurrence of missing values\n",
    "plt.figure(figsize=(7,7))\n",
    "sns.heatmap(df.isna(), cbar=False)\n",
    "plt.title(\"Heatmap of missing data pattern\", fontsize=25)"
   ]
  },
  {
   "cell_type": "markdown",
   "id": "dbc8861a",
   "metadata": {
    "papermill": {
     "duration": 0.035667,
     "end_time": "2021-10-05T20:15:48.434154",
     "exception": false,
     "start_time": "2021-10-05T20:15:48.398487",
     "status": "completed"
    },
    "tags": []
   },
   "source": [
    "We can observe that for url column, there is a bulk absence of values for a part of the domain. Also, there is somewhat a negative correlation between the missing values of **url** and those of **body**, meaning missing values are present for the part fo domain in **body**, where they are present for **url** and vice-versa."
   ]
  },
  {
   "cell_type": "code",
   "execution_count": 10,
   "id": "da3c8c9e",
   "metadata": {
    "execution": {
     "iopub.execute_input": "2021-10-05T20:15:48.512013Z",
     "iopub.status.busy": "2021-10-05T20:15:48.510705Z",
     "iopub.status.idle": "2021-10-05T20:15:48.516897Z",
     "shell.execute_reply": "2021-10-05T20:15:48.517436Z",
     "shell.execute_reply.started": "2021-10-05T20:08:33.826207Z"
    },
    "papermill": {
     "duration": 0.049301,
     "end_time": "2021-10-05T20:15:48.517651",
     "exception": false,
     "start_time": "2021-10-05T20:15:48.468350",
     "status": "completed"
    },
    "tags": []
   },
   "outputs": [],
   "source": [
    "# Creating month and year indices with the timestamp data of the dataset\n",
    "df['year'] = pd.DatetimeIndex(df['timestamp']).year\n",
    "df['month'] = pd.DatetimeIndex(df['timestamp']).month"
   ]
  },
  {
   "cell_type": "code",
   "execution_count": 11,
   "id": "0b29406b",
   "metadata": {
    "execution": {
     "iopub.execute_input": "2021-10-05T20:15:48.595153Z",
     "iopub.status.busy": "2021-10-05T20:15:48.593998Z",
     "iopub.status.idle": "2021-10-05T20:15:50.119267Z",
     "shell.execute_reply": "2021-10-05T20:15:50.119858Z",
     "shell.execute_reply.started": "2021-10-05T20:08:33.973926Z"
    },
    "papermill": {
     "duration": 1.565111,
     "end_time": "2021-10-05T20:15:50.120049",
     "exception": false,
     "start_time": "2021-10-05T20:15:48.554938",
     "status": "completed"
    },
    "tags": []
   },
   "outputs": [
    {
     "data": {
      "text/plain": [
       "Text(0.5, 1.0, 'Monthwise count every year')"
      ]
     },
     "execution_count": 11,
     "metadata": {},
     "output_type": "execute_result"
    },
    {
     "data": {
      "image/png": "[encoded data removed]",
      "text/plain": [
       "<Figure size 1440x432 with 2 Axes>"
      ]
     },
     "metadata": {
      "needs_background": "light"
     },
     "output_type": "display_data"
    },
    {
     "data": {
      "image/png": "[encoded data removed]",
      "text/plain": [
       "<Figure size 1440x432 with 1 Axes>"
      ]
     },
     "metadata": {
      "needs_background": "light"
     },
     "output_type": "display_data"
    }
   ],
   "source": [
    "# Count plots\n",
    "plt.figure(figsize=(20,6))\n",
    "\n",
    "plt.subplot(1,2,1)\n",
    "sns.countplot(x='year', data=df, palette='husl')\n",
    "plt.xlabel(\"Year\", fontsize=15)\n",
    "plt.ylabel(\"Count\", fontsize=15)\n",
    "plt.title(\"Yearwise count\", fontsize=25)\n",
    "\n",
    "plt.subplot(1,2,2)\n",
    "sns.countplot(x='month', data=df, palette='husl')\n",
    "plt.xlabel(\"Month\", fontsize=15)\n",
    "plt.ylabel(\"Count\", fontsize=15)\n",
    "plt.title(\"Monthwise count\", fontsize=25)\n",
    "\n",
    "plt.figure(figsize=(20,6))\n",
    "sns.countplot(x='month', data=df, hue='year', palette='Paired')\n",
    "plt.xlabel(\"Month\", fontsize=15)\n",
    "plt.ylabel(\"Count\", fontsize=15)\n",
    "plt.title(\"Monthwise count every year\", fontsize=25)"
   ]
  },
  {
   "cell_type": "markdown",
   "id": "9439a07e",
   "metadata": {
    "papermill": {
     "duration": 0.038183,
     "end_time": "2021-10-05T20:15:50.196775",
     "exception": false,
     "start_time": "2021-10-05T20:15:50.158592",
     "status": "completed"
    },
    "tags": []
   },
   "source": [
    "**Important Findings:**\n",
    "- Highest number of articles were published in the year 2020, and lowest in 2019\n",
    "- Highest number of articles monthwise were published in the month"
   ]
  },
  {
   "cell_type": "code",
   "execution_count": 12,
   "id": "5eea0268",
   "metadata": {
    "execution": {
     "iopub.execute_input": "2021-10-05T20:15:50.282535Z",
     "iopub.status.busy": "2021-10-05T20:15:50.281419Z",
     "iopub.status.idle": "2021-10-05T20:15:50.712756Z",
     "shell.execute_reply": "2021-10-05T20:15:50.712066Z",
     "shell.execute_reply.started": "2021-10-05T20:08:34.954580Z"
    },
    "papermill": {
     "duration": 0.475449,
     "end_time": "2021-10-05T20:15:50.712925",
     "exception": false,
     "start_time": "2021-10-05T20:15:50.237476",
     "status": "completed"
    },
    "tags": []
   },
   "outputs": [
    {
     "data": {
      "text/plain": [
       "Text(0.5, 1.0, 'Heatmap of co-occurrence matrix')"
      ]
     },
     "execution_count": 12,
     "metadata": {},
     "output_type": "execute_result"
    },
    {
     "data": {
      "image/png": "[encoded data removed]",
      "text/plain": [
       "<Figure size 504x504 with 2 Axes>"
      ]
     },
     "metadata": {
      "needs_background": "light"
     },
     "output_type": "display_data"
    }
   ],
   "source": [
    "plt.figure(figsize=(7,7))\n",
    "sns.heatmap(df.corr(method='pearson'), annot=True)\n",
    "plt.title(\"Heatmap of co-occurrence matrix\", fontsize=25)"
   ]
  },
  {
   "cell_type": "markdown",
   "id": "878cc28e",
   "metadata": {
    "papermill": {
     "duration": 0.038639,
     "end_time": "2021-10-05T20:15:50.789933",
     "exception": false,
     "start_time": "2021-10-05T20:15:50.751294",
     "status": "completed"
    },
    "tags": []
   },
   "source": [
    "We can see there is a high correlation between **year** and **created**, and **comms_num** and **score**, so one column can be dropped in each pair"
   ]
  },
  {
   "cell_type": "code",
   "execution_count": 13,
   "id": "99efa39c",
   "metadata": {
    "execution": {
     "iopub.execute_input": "2021-10-05T20:15:50.872393Z",
     "iopub.status.busy": "2021-10-05T20:15:50.871489Z",
     "iopub.status.idle": "2021-10-05T20:15:50.886053Z",
     "shell.execute_reply": "2021-10-05T20:15:50.885458Z",
     "shell.execute_reply.started": "2021-10-05T20:08:35.458056Z"
    },
    "papermill": {
     "duration": 0.056503,
     "end_time": "2021-10-05T20:15:50.886211",
     "exception": false,
     "start_time": "2021-10-05T20:15:50.829708",
     "status": "completed"
    },
    "tags": []
   },
   "outputs": [
    {
     "data": {
      "text/html": [
       "<div>\n",
       "<style scoped>\n",
       "    .dataframe tbody tr th:only-of-type {\n",
       "        vertical-align: middle;\n",
       "    }\n",
       "\n",
       "    .dataframe tbody tr th {\n",
       "        vertical-align: top;\n",
       "    }\n",
       "\n",
       "    .dataframe thead th {\n",
       "        text-align: right;\n",
       "    }\n",
       "</style>\n",
       "<table border=\"1\" class=\"dataframe\">\n",
       "  <thead>\n",
       "    <tr style=\"text-align: right;\">\n",
       "      <th></th>\n",
       "      <th>title</th>\n",
       "      <th>score</th>\n",
       "      <th>body</th>\n",
       "      <th>year</th>\n",
       "      <th>month</th>\n",
       "    </tr>\n",
       "  </thead>\n",
       "  <tbody>\n",
       "    <tr>\n",
       "      <th>0</th>\n",
       "      <td>Health Canada approves AstraZeneca COVID-19 va...</td>\n",
       "      <td>7</td>\n",
       "      <td>NaN</td>\n",
       "      <td>2021</td>\n",
       "      <td>2</td>\n",
       "    </tr>\n",
       "    <tr>\n",
       "      <th>1</th>\n",
       "      <td>COVID-19 in Canada: 'Vaccination passports' a ...</td>\n",
       "      <td>2</td>\n",
       "      <td>NaN</td>\n",
       "      <td>2021</td>\n",
       "      <td>2</td>\n",
       "    </tr>\n",
       "    <tr>\n",
       "      <th>2</th>\n",
       "      <td>Coronavirus variants could fuel Canada's third...</td>\n",
       "      <td>6</td>\n",
       "      <td>NaN</td>\n",
       "      <td>2021</td>\n",
       "      <td>2</td>\n",
       "    </tr>\n",
       "    <tr>\n",
       "      <th>3</th>\n",
       "      <td>Canadian government to extend COVID-19 emergen...</td>\n",
       "      <td>1</td>\n",
       "      <td>NaN</td>\n",
       "      <td>2021</td>\n",
       "      <td>2</td>\n",
       "    </tr>\n",
       "    <tr>\n",
       "      <th>4</th>\n",
       "      <td>Canada: Pfizer is 'extremely committed' to mee...</td>\n",
       "      <td>6</td>\n",
       "      <td>NaN</td>\n",
       "      <td>2021</td>\n",
       "      <td>2</td>\n",
       "    </tr>\n",
       "  </tbody>\n",
       "</table>\n",
       "</div>"
      ],
      "text/plain": [
       "                                               title  score body  year  month\n",
       "0  Health Canada approves AstraZeneca COVID-19 va...      7  NaN  2021      2\n",
       "1  COVID-19 in Canada: 'Vaccination passports' a ...      2  NaN  2021      2\n",
       "2  Coronavirus variants could fuel Canada's third...      6  NaN  2021      2\n",
       "3  Canadian government to extend COVID-19 emergen...      1  NaN  2021      2\n",
       "4  Canada: Pfizer is 'extremely committed' to mee...      6  NaN  2021      2"
      ]
     },
     "execution_count": 13,
     "metadata": {},
     "output_type": "execute_result"
    }
   ],
   "source": [
    "df.drop(labels=['created', 'comms_num', 'url', 'id', 'timestamp'], axis=1, inplace=True)\n",
    "df.head()"
   ]
  },
  {
   "cell_type": "markdown",
   "id": "ac22e6c3",
   "metadata": {
    "papermill": {
     "duration": 0.03941,
     "end_time": "2021-10-05T20:15:50.965680",
     "exception": false,
     "start_time": "2021-10-05T20:15:50.926270",
     "status": "completed"
    },
    "tags": []
   },
   "source": [
    "1. Here we dropped the columns created and id because they were not serving any important purpose.  \n",
    "2. We dropped comms_num since it was highly correlated with score.  \n",
    "3. We dropped timestamp, since we already extracted year and date from it.  \n",
    "4. Also, since the column url is more than 50% missing values, we dropped it as well.  \n"
   ]
  },
  {
   "cell_type": "markdown",
   "id": "03267982",
   "metadata": {
    "papermill": {
     "duration": 0.03895,
     "end_time": "2021-10-05T20:15:51.046131",
     "exception": false,
     "start_time": "2021-10-05T20:15:51.007181",
     "status": "completed"
    },
    "tags": []
   },
   "source": [
    "### Data pre-processing \n",
    "#### Steps: \n",
    "- Tokenzation \n",
    "- Stop words \n",
    "- Lemmatization \n",
    "- Stemming \n",
    "\n",
    "Also, it's worth noting that these are reddit posts, so the language is going to be informal."
   ]
  },
  {
   "cell_type": "code",
   "execution_count": 14,
   "id": "6339860b",
   "metadata": {
    "execution": {
     "iopub.execute_input": "2021-10-05T20:15:51.136564Z",
     "iopub.status.busy": "2021-10-05T20:15:51.135852Z",
     "iopub.status.idle": "2021-10-05T20:15:51.844781Z",
     "shell.execute_reply": "2021-10-05T20:15:51.844189Z",
     "shell.execute_reply.started": "2021-10-05T20:08:36.495962Z"
    },
    "papermill": {
     "duration": 0.757005,
     "end_time": "2021-10-05T20:15:51.844942",
     "exception": false,
     "start_time": "2021-10-05T20:15:51.087937",
     "status": "completed"
    },
    "tags": []
   },
   "outputs": [],
   "source": [
    "# Import libraries for pre-processing\n",
    "import re\n",
    "import string\n",
    "from nltk.corpus import stopwords\n",
    "from nltk.tokenize import word_tokenize\n",
    "from nltk.stem.porter import PorterStemmer\n",
    "from nltk.stem import WordNetLemmatizer\n",
    "from nltk.chunk import RegexpParser\n",
    "from nltk.tokenize import punkt"
   ]
  },
  {
   "cell_type": "code",
   "execution_count": 15,
   "id": "f0899d0e",
   "metadata": {
    "execution": {
     "iopub.execute_input": "2021-10-05T20:15:51.927846Z",
     "iopub.status.busy": "2021-10-05T20:15:51.926655Z",
     "iopub.status.idle": "2021-10-05T20:15:51.929893Z",
     "shell.execute_reply": "2021-10-05T20:15:51.929339Z",
     "shell.execute_reply.started": "2021-10-05T20:08:36.759784Z"
    },
    "papermill": {
     "duration": 0.046306,
     "end_time": "2021-10-05T20:15:51.930057",
     "exception": false,
     "start_time": "2021-10-05T20:15:51.883751",
     "status": "completed"
    },
    "tags": []
   },
   "outputs": [],
   "source": [
    "# Combine title and body together in a column for further ease in processing and analysis\n",
    "# df['text'] = df['title'] + df['body']\n",
    "# df.head()"
   ]
  },
  {
   "cell_type": "code",
   "execution_count": 16,
   "id": "161ce1a1",
   "metadata": {
    "execution": {
     "iopub.execute_input": "2021-10-05T20:15:52.014919Z",
     "iopub.status.busy": "2021-10-05T20:15:52.014189Z",
     "iopub.status.idle": "2021-10-05T20:15:52.016100Z",
     "shell.execute_reply": "2021-10-05T20:15:52.016656Z",
     "shell.execute_reply.started": "2021-10-05T20:08:36.965077Z"
    },
    "papermill": {
     "duration": 0.047901,
     "end_time": "2021-10-05T20:15:52.016840",
     "exception": false,
     "start_time": "2021-10-05T20:15:51.968939",
     "status": "completed"
    },
    "tags": []
   },
   "outputs": [],
   "source": [
    "# Twitter specific pre-processing\n",
    "\n",
    "def preprocess_twitter_data(df):\n",
    "    # Remove twitter handles\n",
    "    data['body'] = df['body'].apply(lambda text : re.sub(r'@([a-zA-Z0-9_]+)'))\n",
    "    "
   ]
  },
  {
   "cell_type": "code",
   "execution_count": 17,
   "id": "416da442",
   "metadata": {
    "execution": {
     "iopub.execute_input": "2021-10-05T20:15:52.104667Z",
     "iopub.status.busy": "2021-10-05T20:15:52.101076Z",
     "iopub.status.idle": "2021-10-05T20:15:52.108187Z",
     "shell.execute_reply": "2021-10-05T20:15:52.107280Z",
     "shell.execute_reply.started": "2021-10-05T20:08:37.637400Z"
    },
    "papermill": {
     "duration": 0.051843,
     "end_time": "2021-10-05T20:15:52.108372",
     "exception": false,
     "start_time": "2021-10-05T20:15:52.056529",
     "status": "completed"
    },
    "tags": []
   },
   "outputs": [],
   "source": [
    "#removing 'nan' values and rows which are empty\n",
    "index = []\n",
    "df.replace(np.nan, '', inplace=True)"
   ]
  },
  {
   "cell_type": "code",
   "execution_count": 18,
   "id": "1316cecf",
   "metadata": {
    "execution": {
     "iopub.execute_input": "2021-10-05T20:15:52.201569Z",
     "iopub.status.busy": "2021-10-05T20:15:52.196294Z",
     "iopub.status.idle": "2021-10-05T20:15:52.213842Z",
     "shell.execute_reply": "2021-10-05T20:15:52.213222Z",
     "shell.execute_reply.started": "2021-10-05T20:08:38.449226Z"
    },
    "papermill": {
     "duration": 0.066677,
     "end_time": "2021-10-05T20:15:52.214003",
     "exception": false,
     "start_time": "2021-10-05T20:15:52.147326",
     "status": "completed"
    },
    "tags": []
   },
   "outputs": [],
   "source": [
    "# Convert to lowercase\n",
    "df['body'] = df['body'].apply(lambda text : \" \".join(word.lower() for word in text.split(\" \")))"
   ]
  },
  {
   "cell_type": "code",
   "execution_count": 19,
   "id": "33eb48ec",
   "metadata": {
    "execution": {
     "iopub.execute_input": "2021-10-05T20:15:52.296172Z",
     "iopub.status.busy": "2021-10-05T20:15:52.295357Z",
     "iopub.status.idle": "2021-10-05T20:15:52.321997Z",
     "shell.execute_reply": "2021-10-05T20:15:52.321421Z",
     "shell.execute_reply.started": "2021-10-05T20:08:40.865327Z"
    },
    "papermill": {
     "duration": 0.069048,
     "end_time": "2021-10-05T20:15:52.322167",
     "exception": false,
     "start_time": "2021-10-05T20:15:52.253119",
     "status": "completed"
    },
    "tags": []
   },
   "outputs": [],
   "source": [
    "# Remove digits\n",
    "df['body'] = df['body'].apply(lambda text : re.sub('\\d+', ' ', text))"
   ]
  },
  {
   "cell_type": "code",
   "execution_count": 20,
   "id": "b119688c",
   "metadata": {
    "execution": {
     "iopub.execute_input": "2021-10-05T20:15:52.405052Z",
     "iopub.status.busy": "2021-10-05T20:15:52.404358Z",
     "iopub.status.idle": "2021-10-05T20:15:52.433503Z",
     "shell.execute_reply": "2021-10-05T20:15:52.434161Z",
     "shell.execute_reply.started": "2021-10-05T20:10:49.734765Z"
    },
    "papermill": {
     "duration": 0.072717,
     "end_time": "2021-10-05T20:15:52.434350",
     "exception": false,
     "start_time": "2021-10-05T20:15:52.361633",
     "status": "completed"
    },
    "tags": []
   },
   "outputs": [],
   "source": [
    "# Remove stop words\n",
    "stop_words = set(stopwords.words('english'))\n",
    "df['body'] = df['body'].apply(lambda text : \" \".join(word for word in text.split(\" \") if word not in stop_words))"
   ]
  },
  {
   "cell_type": "code",
   "execution_count": 21,
   "id": "f955ec2d",
   "metadata": {
    "execution": {
     "iopub.execute_input": "2021-10-05T20:15:52.532362Z",
     "iopub.status.busy": "2021-10-05T20:15:52.514421Z",
     "iopub.status.idle": "2021-10-05T20:15:52.538985Z",
     "shell.execute_reply": "2021-10-05T20:15:52.539569Z",
     "shell.execute_reply.started": "2021-10-05T20:10:52.856443Z"
    },
    "papermill": {
     "duration": 0.066968,
     "end_time": "2021-10-05T20:15:52.539761",
     "exception": false,
     "start_time": "2021-10-05T20:15:52.472793",
     "status": "completed"
    },
    "tags": []
   },
   "outputs": [],
   "source": [
    "# Remove digits\n",
    "df['body'] = df['body'].apply(lambda text : re.sub(r'[^\\w\\s]', ' ', text))"
   ]
  },
  {
   "cell_type": "code",
   "execution_count": 22,
   "id": "ecb65ede",
   "metadata": {
    "execution": {
     "iopub.execute_input": "2021-10-05T20:15:52.621860Z",
     "iopub.status.busy": "2021-10-05T20:15:52.621177Z",
     "iopub.status.idle": "2021-10-05T20:15:53.166114Z",
     "shell.execute_reply": "2021-10-05T20:15:53.167176Z",
     "shell.execute_reply.started": "2021-10-05T20:10:53.232547Z"
    },
    "papermill": {
     "duration": 0.588199,
     "end_time": "2021-10-05T20:15:53.167490",
     "exception": false,
     "start_time": "2021-10-05T20:15:52.579291",
     "status": "completed"
    },
    "tags": []
   },
   "outputs": [
    {
     "name": "stdout",
     "output_type": "stream",
     "text": [
      "['op', 'myth', 'one', 'vaccine']\n"
     ]
    }
   ],
   "source": [
    "# Remove punctuations and tokenize\n",
    "t = df['body'].apply(lambda text : word_tokenize(text))\n",
    "text = [word for sublist in t for word in sublist]\n",
    "print(text[0:4])"
   ]
  },
  {
   "cell_type": "markdown",
   "id": "4427979e",
   "metadata": {
    "papermill": {
     "duration": 0.039112,
     "end_time": "2021-10-05T20:15:53.246636",
     "exception": false,
     "start_time": "2021-10-05T20:15:53.207524",
     "status": "completed"
    },
    "tags": []
   },
   "source": [
    "### Word Cloud"
   ]
  },
  {
   "cell_type": "code",
   "execution_count": 23,
   "id": "12da1cd9",
   "metadata": {
    "execution": {
     "iopub.execute_input": "2021-10-05T20:15:53.332948Z",
     "iopub.status.busy": "2021-10-05T20:15:53.331996Z",
     "iopub.status.idle": "2021-10-05T20:15:54.368193Z",
     "shell.execute_reply": "2021-10-05T20:15:54.368777Z",
     "shell.execute_reply.started": "2021-10-05T20:11:39.185606Z"
    },
    "papermill": {
     "duration": 1.082818,
     "end_time": "2021-10-05T20:15:54.368970",
     "exception": false,
     "start_time": "2021-10-05T20:15:53.286152",
     "status": "completed"
    },
    "tags": []
   },
   "outputs": [
    {
     "data": {
      "image/png": "[encoded data removed]",
      "text/plain": [
       "<Figure size 576x576 with 1 Axes>"
      ]
     },
     "metadata": {
      "needs_background": "light"
     },
     "output_type": "display_data"
    }
   ],
   "source": [
    "from wordcloud import WordCloud\n",
    "\n",
    "wordcloud = WordCloud(width=800, height=800, background_color= \"black\", stopwords=stop_words, max_words=1000, min_font_size=20).generate(str(df['body']))\n",
    "\n",
    "# Plot\n",
    "fig = plt.figure(figsize=(8,8), facecolor=None)\n",
    "plt.imshow(wordcloud)\n",
    "plt.axis('off')\n",
    "plt.show()"
   ]
  },
  {
   "cell_type": "code",
   "execution_count": 24,
   "id": "acf507cb",
   "metadata": {
    "execution": {
     "iopub.execute_input": "2021-10-05T20:15:54.462163Z",
     "iopub.status.busy": "2021-10-05T20:15:54.461123Z",
     "iopub.status.idle": "2021-10-05T20:15:54.464741Z",
     "shell.execute_reply": "2021-10-05T20:15:54.464149Z",
     "shell.execute_reply.started": "2021-10-05T19:51:07.521777Z"
    },
    "papermill": {
     "duration": 0.052856,
     "end_time": "2021-10-05T20:15:54.464904",
     "exception": false,
     "start_time": "2021-10-05T20:15:54.412048",
     "status": "completed"
    },
    "tags": []
   },
   "outputs": [],
   "source": [
    "def stemmer_lemmatizer(df): \n",
    "    ''' This function takes the dataframe as input and performs lemmatization and stemming'''\n",
    "    stemmer = PorterStemmer()\n",
    "    lemmatizer = WordNetLemmatizer()\n",
    "    \n",
    "    "
   ]
  },
  {
   "cell_type": "code",
   "execution_count": null,
   "id": "f8ce7ac1",
   "metadata": {
    "papermill": {
     "duration": 0.042599,
     "end_time": "2021-10-05T20:15:54.551359",
     "exception": false,
     "start_time": "2021-10-05T20:15:54.508760",
     "status": "completed"
    },
    "tags": []
   },
   "outputs": [],
   "source": []
  }
 ],
 "metadata": {
  "kernelspec": {
   "display_name": "Python 3",
   "language": "python",
   "name": "python3"
  },
  "language_info": {
   "codemirror_mode": {
    "name": "ipython",
    "version": 3
   },
   "file_extension": ".py",
   "mimetype": "text/x-python",
   "name": "python",
   "nbconvert_exporter": "python",
   "pygments_lexer": "ipython3",
   "version": "3.7.10"
  },
  "papermill": {
   "default_parameters": {},
   "duration": 18.789898,
   "end_time": "2021-10-05T20:15:56.149013",
   "environment_variables": {},
   "exception": null,
   "input_path": "__notebook__.ipynb",
   "output_path": "__notebook__.ipynb",
   "parameters": {},
   "start_time": "2021-10-05T20:15:37.359115",
   "version": "2.3.3"
  }
 },
 "nbformat": 4,
 "nbformat_minor": 5
}
