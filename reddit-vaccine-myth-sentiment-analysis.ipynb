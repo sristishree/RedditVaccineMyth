{
 "cells": [
  {
   "cell_type": "markdown",
   "id": "107fdc00",
   "metadata": {
    "papermill": {
     "duration": 0.016319,
     "end_time": "2021-10-01T17:48:58.653159",
     "exception": false,
     "start_time": "2021-10-01T17:48:58.636840",
     "status": "completed"
    },
    "tags": []
   },
   "source": [
    "# Reddit Vaccine Myth Sentiment Analysis\n",
    "\n",
    "According to the description of this dataset, r/VaccineMyths is a subreddit where myths related to various vaccines are discussed.\n",
    "\n",
    "It contains both posts and comments.\n",
    "\n",
    "Our task is to perform sentiment analysis and then topic modeling on this dataset.\n",
    "The topic modeling will be particularly helpful for the medical study of this dataset, because it will let us better understand what are the factors that are related to the originating of particular types of myths surrouding the vaccines."
   ]
  },
  {
   "cell_type": "code",
   "execution_count": 1,
   "id": "fd3efe39",
   "metadata": {
    "_cell_guid": "b1076dfc-b9ad-4769-8c92-a6c4dae69d19",
    "_uuid": "8f2839f25d086af736a60e9eeb907d3b93b6e0e5",
    "execution": {
     "iopub.execute_input": "2021-10-01T17:48:58.687580Z",
     "iopub.status.busy": "2021-10-01T17:48:58.686397Z",
     "iopub.status.idle": "2021-10-01T17:48:59.654679Z",
     "shell.execute_reply": "2021-10-01T17:48:59.653850Z",
     "shell.execute_reply.started": "2021-10-01T17:26:30.728011Z"
    },
    "papermill": {
     "duration": 0.986226,
     "end_time": "2021-10-01T17:48:59.654845",
     "exception": false,
     "start_time": "2021-10-01T17:48:58.668619",
     "status": "completed"
    },
    "tags": []
   },
   "outputs": [
    {
     "name": "stdout",
     "output_type": "stream",
     "text": [
      "/kaggle/input/reddit-vaccine-myths/reddit_vm.csv\n"
     ]
    }
   ],
   "source": [
    "import numpy as np # linear algebra\n",
    "import pandas as pd # data processing, CSV file I/O (e.g. pd.read_csv)\n",
    "import matplotlib.pyplot as plt\n",
    "import seaborn as sns\n",
    "\n",
    "import os\n",
    "for dirname, _, filenames in os.walk('/kaggle/input'):\n",
    "    for filename in filenames:\n",
    "        print(os.path.join(dirname, filename))\n",
    "dataset_path = os.path.join(dirname, filenames[0])"
   ]
  },
  {
   "cell_type": "code",
   "execution_count": 2,
   "id": "8443266d",
   "metadata": {
    "execution": {
     "iopub.execute_input": "2021-10-01T17:48:59.692882Z",
     "iopub.status.busy": "2021-10-01T17:48:59.692058Z",
     "iopub.status.idle": "2021-10-01T17:48:59.695204Z",
     "shell.execute_reply": "2021-10-01T17:48:59.694558Z",
     "shell.execute_reply.started": "2021-10-01T17:26:31.664967Z"
    },
    "papermill": {
     "duration": 0.024304,
     "end_time": "2021-10-01T17:48:59.695354",
     "exception": false,
     "start_time": "2021-10-01T17:48:59.671050",
     "status": "completed"
    },
    "tags": []
   },
   "outputs": [],
   "source": [
    "# Class for decorated printing\n",
    "# Source: https://stackoverflow.com/a/17303428\n",
    "class color:\n",
    "   PURPLE = '\\033[95m'\n",
    "   CYAN = '\\033[96m'\n",
    "   DARKCYAN = '\\033[36m'\n",
    "   BLUE = '\\033[94m'\n",
    "   GREEN = '\\033[92m'\n",
    "   YELLOW = '\\033[93m'\n",
    "   RED = '\\033[91m'\n",
    "   BOLD = '\\033[1m'\n",
    "   UNDERLINE = '\\033[4m'\n",
    "   END = '\\033[0m'"
   ]
  },
  {
   "cell_type": "code",
   "execution_count": 3,
   "id": "44d9e27f",
   "metadata": {
    "execution": {
     "iopub.execute_input": "2021-10-01T17:48:59.730357Z",
     "iopub.status.busy": "2021-10-01T17:48:59.729269Z",
     "iopub.status.idle": "2021-10-01T17:48:59.789002Z",
     "shell.execute_reply": "2021-10-01T17:48:59.789504Z",
     "shell.execute_reply.started": "2021-10-01T17:26:31.671351Z"
    },
    "papermill": {
     "duration": 0.078853,
     "end_time": "2021-10-01T17:48:59.789667",
     "exception": false,
     "start_time": "2021-10-01T17:48:59.710814",
     "status": "completed"
    },
    "tags": []
   },
   "outputs": [
    {
     "data": {
      "text/html": [
       "<div>\n",
       "<style scoped>\n",
       "    .dataframe tbody tr th:only-of-type {\n",
       "        vertical-align: middle;\n",
       "    }\n",
       "\n",
       "    .dataframe tbody tr th {\n",
       "        vertical-align: top;\n",
       "    }\n",
       "\n",
       "    .dataframe thead th {\n",
       "        text-align: right;\n",
       "    }\n",
       "</style>\n",
       "<table border=\"1\" class=\"dataframe\">\n",
       "  <thead>\n",
       "    <tr style=\"text-align: right;\">\n",
       "      <th></th>\n",
       "      <th>title</th>\n",
       "      <th>score</th>\n",
       "      <th>id</th>\n",
       "      <th>url</th>\n",
       "      <th>comms_num</th>\n",
       "      <th>created</th>\n",
       "      <th>body</th>\n",
       "      <th>timestamp</th>\n",
       "    </tr>\n",
       "  </thead>\n",
       "  <tbody>\n",
       "    <tr>\n",
       "      <th>0</th>\n",
       "      <td>Health Canada approves AstraZeneca COVID-19 va...</td>\n",
       "      <td>7</td>\n",
       "      <td>lt74vw</td>\n",
       "      <td>https://www.canadaforums.ca/2021/02/health-can...</td>\n",
       "      <td>0</td>\n",
       "      <td>1.614400e+09</td>\n",
       "      <td>NaN</td>\n",
       "      <td>2021-02-27 06:33:45</td>\n",
       "    </tr>\n",
       "    <tr>\n",
       "      <th>1</th>\n",
       "      <td>COVID-19 in Canada: 'Vaccination passports' a ...</td>\n",
       "      <td>2</td>\n",
       "      <td>lsh0ij</td>\n",
       "      <td>https://www.canadaforums.ca/2021/02/covid-19-i...</td>\n",
       "      <td>1</td>\n",
       "      <td>1.614316e+09</td>\n",
       "      <td>NaN</td>\n",
       "      <td>2021-02-26 07:11:07</td>\n",
       "    </tr>\n",
       "    <tr>\n",
       "      <th>2</th>\n",
       "      <td>Coronavirus variants could fuel Canada's third...</td>\n",
       "      <td>6</td>\n",
       "      <td>lohlle</td>\n",
       "      <td>https://www.canadaforums.ca/2021/02/coronaviru...</td>\n",
       "      <td>0</td>\n",
       "      <td>1.613887e+09</td>\n",
       "      <td>NaN</td>\n",
       "      <td>2021-02-21 07:50:08</td>\n",
       "    </tr>\n",
       "    <tr>\n",
       "      <th>3</th>\n",
       "      <td>Canadian government to extend COVID-19 emergen...</td>\n",
       "      <td>1</td>\n",
       "      <td>lnptv8</td>\n",
       "      <td>https://www.canadaforums.ca/2021/02/canadian-g...</td>\n",
       "      <td>0</td>\n",
       "      <td>1.613796e+09</td>\n",
       "      <td>NaN</td>\n",
       "      <td>2021-02-20 06:35:13</td>\n",
       "    </tr>\n",
       "    <tr>\n",
       "      <th>4</th>\n",
       "      <td>Canada: Pfizer is 'extremely committed' to mee...</td>\n",
       "      <td>6</td>\n",
       "      <td>lkslm6</td>\n",
       "      <td>https://www.canadaforums.ca/2021/02/canada-pfi...</td>\n",
       "      <td>0</td>\n",
       "      <td>1.613468e+09</td>\n",
       "      <td>NaN</td>\n",
       "      <td>2021-02-16 11:36:28</td>\n",
       "    </tr>\n",
       "  </tbody>\n",
       "</table>\n",
       "</div>"
      ],
      "text/plain": [
       "                                               title  score      id  \\\n",
       "0  Health Canada approves AstraZeneca COVID-19 va...      7  lt74vw   \n",
       "1  COVID-19 in Canada: 'Vaccination passports' a ...      2  lsh0ij   \n",
       "2  Coronavirus variants could fuel Canada's third...      6  lohlle   \n",
       "3  Canadian government to extend COVID-19 emergen...      1  lnptv8   \n",
       "4  Canada: Pfizer is 'extremely committed' to mee...      6  lkslm6   \n",
       "\n",
       "                                                 url  comms_num       created  \\\n",
       "0  https://www.canadaforums.ca/2021/02/health-can...          0  1.614400e+09   \n",
       "1  https://www.canadaforums.ca/2021/02/covid-19-i...          1  1.614316e+09   \n",
       "2  https://www.canadaforums.ca/2021/02/coronaviru...          0  1.613887e+09   \n",
       "3  https://www.canadaforums.ca/2021/02/canadian-g...          0  1.613796e+09   \n",
       "4  https://www.canadaforums.ca/2021/02/canada-pfi...          0  1.613468e+09   \n",
       "\n",
       "  body            timestamp  \n",
       "0  NaN  2021-02-27 06:33:45  \n",
       "1  NaN  2021-02-26 07:11:07  \n",
       "2  NaN  2021-02-21 07:50:08  \n",
       "3  NaN  2021-02-20 06:35:13  \n",
       "4  NaN  2021-02-16 11:36:28  "
      ]
     },
     "execution_count": 3,
     "metadata": {},
     "output_type": "execute_result"
    }
   ],
   "source": [
    "# Read data\n",
    "df = pd.read_csv(dataset_path)\n",
    "# Print top 5 rows\n",
    "df.head()"
   ]
  },
  {
   "cell_type": "markdown",
   "id": "ca21b3d6",
   "metadata": {
    "papermill": {
     "duration": 0.015583,
     "end_time": "2021-10-01T17:48:59.821104",
     "exception": false,
     "start_time": "2021-10-01T17:48:59.805521",
     "status": "completed"
    },
    "tags": []
   },
   "source": [
    "### Exploratory Data Analysis\n",
    "\n",
    "I have written some reusable utility functions for the EDA"
   ]
  },
  {
   "cell_type": "code",
   "execution_count": 4,
   "id": "57515e9f",
   "metadata": {
    "execution": {
     "iopub.execute_input": "2021-10-01T17:48:59.858623Z",
     "iopub.status.busy": "2021-10-01T17:48:59.856821Z",
     "iopub.status.idle": "2021-10-01T17:48:59.861924Z",
     "shell.execute_reply": "2021-10-01T17:48:59.862436Z",
     "shell.execute_reply.started": "2021-10-01T17:26:31.743862Z"
    },
    "papermill": {
     "duration": 0.02555,
     "end_time": "2021-10-01T17:48:59.862616",
     "exception": false,
     "start_time": "2021-10-01T17:48:59.837066",
     "status": "completed"
    },
    "tags": []
   },
   "outputs": [
    {
     "name": "stdout",
     "output_type": "stream",
     "text": [
      "Shape of dataset: (1585, 8)\n"
     ]
    }
   ],
   "source": [
    "# Shape of dataset\n",
    "print(f'Shape of dataset: {df.shape}')"
   ]
  },
  {
   "cell_type": "code",
   "execution_count": 5,
   "id": "f752c990",
   "metadata": {
    "execution": {
     "iopub.execute_input": "2021-10-01T17:48:59.902472Z",
     "iopub.status.busy": "2021-10-01T17:48:59.901737Z",
     "iopub.status.idle": "2021-10-01T17:48:59.904088Z",
     "shell.execute_reply": "2021-10-01T17:48:59.903464Z",
     "shell.execute_reply.started": "2021-10-01T17:26:31.749524Z"
    },
    "papermill": {
     "duration": 0.025428,
     "end_time": "2021-10-01T17:48:59.904228",
     "exception": false,
     "start_time": "2021-10-01T17:48:59.878800",
     "status": "completed"
    },
    "tags": []
   },
   "outputs": [],
   "source": [
    "def basic_information(df):\n",
    "    print(color.PURPLE + color.BOLD + 'Description: \\n' + color.END)\n",
    "    display(df.describe())\n",
    "    print(color.PURPLE + color.BOLD + '\\nInformation: \\n' + color.END)\n",
    "    display(df.info())\n",
    "    print(color.PURPLE + color.BOLD + '\\nNaN Values: \\n' + color.END)\n",
    "    display(pd.isna(df).sum())"
   ]
  },
  {
   "cell_type": "code",
   "execution_count": 6,
   "id": "3283610c",
   "metadata": {
    "execution": {
     "iopub.execute_input": "2021-10-01T17:48:59.943608Z",
     "iopub.status.busy": "2021-10-01T17:48:59.942858Z",
     "iopub.status.idle": "2021-10-01T17:48:59.944854Z",
     "shell.execute_reply": "2021-10-01T17:48:59.945406Z",
     "shell.execute_reply.started": "2021-10-01T17:26:31.763482Z"
    },
    "papermill": {
     "duration": 0.024512,
     "end_time": "2021-10-01T17:48:59.945594",
     "exception": false,
     "start_time": "2021-10-01T17:48:59.921082",
     "status": "completed"
    },
    "tags": []
   },
   "outputs": [],
   "source": [
    "def feature_type(df):\n",
    "    '''\n",
    "    This function finds which features in given dataframe \n",
    "    are of categorical type and which are numerical\n",
    "    \n",
    "    Input - df:Dataframe\n",
    "    Output - categorical_features:list, numerical_features:list \n",
    "    '''\n",
    "    categorical_features = []\n",
    "    numerical_features = []\n",
    "    \n",
    "    for column in df.columns:\n",
    "        if df[column].dtype == object:\n",
    "            categorical_features.append(column)\n",
    "        else:\n",
    "            numerical_features.append(column)\n",
    "            \n",
    "    return categorical_features, numerical_features"
   ]
  },
  {
   "cell_type": "code",
   "execution_count": 7,
   "id": "beb1cf28",
   "metadata": {
    "execution": {
     "iopub.execute_input": "2021-10-01T17:48:59.982417Z",
     "iopub.status.busy": "2021-10-01T17:48:59.981746Z",
     "iopub.status.idle": "2021-10-01T17:49:00.033700Z",
     "shell.execute_reply": "2021-10-01T17:49:00.034182Z",
     "shell.execute_reply.started": "2021-10-01T17:26:31.894902Z"
    },
    "papermill": {
     "duration": 0.071193,
     "end_time": "2021-10-01T17:49:00.034362",
     "exception": false,
     "start_time": "2021-10-01T17:48:59.963169",
     "status": "completed"
    },
    "tags": []
   },
   "outputs": [
    {
     "name": "stdout",
     "output_type": "stream",
     "text": [
      "\u001b[95m\u001b[1mDescription: \n",
      "\u001b[0m\n"
     ]
    },
    {
     "data": {
      "text/html": [
       "<div>\n",
       "<style scoped>\n",
       "    .dataframe tbody tr th:only-of-type {\n",
       "        vertical-align: middle;\n",
       "    }\n",
       "\n",
       "    .dataframe tbody tr th {\n",
       "        vertical-align: top;\n",
       "    }\n",
       "\n",
       "    .dataframe thead th {\n",
       "        text-align: right;\n",
       "    }\n",
       "</style>\n",
       "<table border=\"1\" class=\"dataframe\">\n",
       "  <thead>\n",
       "    <tr style=\"text-align: right;\">\n",
       "      <th></th>\n",
       "      <th>score</th>\n",
       "      <th>comms_num</th>\n",
       "      <th>created</th>\n",
       "    </tr>\n",
       "  </thead>\n",
       "  <tbody>\n",
       "    <tr>\n",
       "      <th>count</th>\n",
       "      <td>1585.000000</td>\n",
       "      <td>1585.000000</td>\n",
       "      <td>1.585000e+03</td>\n",
       "    </tr>\n",
       "    <tr>\n",
       "      <th>mean</th>\n",
       "      <td>3.686435</td>\n",
       "      <td>1.851735</td>\n",
       "      <td>1.546237e+09</td>\n",
       "    </tr>\n",
       "    <tr>\n",
       "      <th>std</th>\n",
       "      <td>30.027315</td>\n",
       "      <td>16.221715</td>\n",
       "      <td>7.076341e+07</td>\n",
       "    </tr>\n",
       "    <tr>\n",
       "      <th>min</th>\n",
       "      <td>-12.000000</td>\n",
       "      <td>0.000000</td>\n",
       "      <td>1.389595e+09</td>\n",
       "    </tr>\n",
       "    <tr>\n",
       "      <th>25%</th>\n",
       "      <td>1.000000</td>\n",
       "      <td>0.000000</td>\n",
       "      <td>1.554325e+09</td>\n",
       "    </tr>\n",
       "    <tr>\n",
       "      <th>50%</th>\n",
       "      <td>1.000000</td>\n",
       "      <td>0.000000</td>\n",
       "      <td>1.569120e+09</td>\n",
       "    </tr>\n",
       "    <tr>\n",
       "      <th>75%</th>\n",
       "      <td>3.000000</td>\n",
       "      <td>1.000000</td>\n",
       "      <td>1.583789e+09</td>\n",
       "    </tr>\n",
       "    <tr>\n",
       "      <th>max</th>\n",
       "      <td>1185.000000</td>\n",
       "      <td>596.000000</td>\n",
       "      <td>1.631878e+09</td>\n",
       "    </tr>\n",
       "  </tbody>\n",
       "</table>\n",
       "</div>"
      ],
      "text/plain": [
       "             score    comms_num       created\n",
       "count  1585.000000  1585.000000  1.585000e+03\n",
       "mean      3.686435     1.851735  1.546237e+09\n",
       "std      30.027315    16.221715  7.076341e+07\n",
       "min     -12.000000     0.000000  1.389595e+09\n",
       "25%       1.000000     0.000000  1.554325e+09\n",
       "50%       1.000000     0.000000  1.569120e+09\n",
       "75%       3.000000     1.000000  1.583789e+09\n",
       "max    1185.000000   596.000000  1.631878e+09"
      ]
     },
     "metadata": {},
     "output_type": "display_data"
    },
    {
     "name": "stdout",
     "output_type": "stream",
     "text": [
      "\u001b[95m\u001b[1m\n",
      "Information: \n",
      "\u001b[0m\n",
      "<class 'pandas.core.frame.DataFrame'>\n",
      "RangeIndex: 1585 entries, 0 to 1584\n",
      "Data columns (total 8 columns):\n",
      " #   Column     Non-Null Count  Dtype  \n",
      "---  ------     --------------  -----  \n",
      " 0   title      1585 non-null   object \n",
      " 1   score      1585 non-null   int64  \n",
      " 2   id         1585 non-null   object \n",
      " 3   url        464 non-null    object \n",
      " 4   comms_num  1585 non-null   int64  \n",
      " 5   created    1585 non-null   float64\n",
      " 6   body       1213 non-null   object \n",
      " 7   timestamp  1585 non-null   object \n",
      "dtypes: float64(1), int64(2), object(5)\n",
      "memory usage: 99.2+ KB\n"
     ]
    },
    {
     "data": {
      "text/plain": [
       "None"
      ]
     },
     "metadata": {},
     "output_type": "display_data"
    },
    {
     "name": "stdout",
     "output_type": "stream",
     "text": [
      "\u001b[95m\u001b[1m\n",
      "NaN Values: \n",
      "\u001b[0m\n"
     ]
    },
    {
     "data": {
      "text/plain": [
       "title           0\n",
       "score           0\n",
       "id              0\n",
       "url          1121\n",
       "comms_num       0\n",
       "created         0\n",
       "body          372\n",
       "timestamp       0\n",
       "dtype: int64"
      ]
     },
     "metadata": {},
     "output_type": "display_data"
    }
   ],
   "source": [
    "basic_information(df)"
   ]
  },
  {
   "cell_type": "code",
   "execution_count": 8,
   "id": "3b5218e8",
   "metadata": {
    "execution": {
     "iopub.execute_input": "2021-10-01T17:49:00.080081Z",
     "iopub.status.busy": "2021-10-01T17:49:00.079241Z",
     "iopub.status.idle": "2021-10-01T17:49:00.082517Z",
     "shell.execute_reply": "2021-10-01T17:49:00.083370Z",
     "shell.execute_reply.started": "2021-10-01T17:26:32.066169Z"
    },
    "papermill": {
     "duration": 0.02944,
     "end_time": "2021-10-01T17:49:00.083594",
     "exception": false,
     "start_time": "2021-10-01T17:49:00.054154",
     "status": "completed"
    },
    "tags": []
   },
   "outputs": [
    {
     "name": "stdout",
     "output_type": "stream",
     "text": [
      "\u001b[95m\u001b[1mCategorical Features: \u001b[0m['title', 'id', 'url', 'body', 'timestamp']\n",
      "\u001b[95m\u001b[1mCategorical Features: \u001b[0m['title', 'id', 'url', 'body', 'timestamp']\n"
     ]
    }
   ],
   "source": [
    "categorical_features, numerical_features = feature_type(df)\n",
    "print(color.PURPLE + color.BOLD + 'Categorical Features: ' + color.END + f'{categorical_features}')\n",
    "print(color.PURPLE + color.BOLD + 'Categorical Features: ' + color.END + f'{categorical_features}')"
   ]
  },
  {
   "cell_type": "markdown",
   "id": "97cf3e37",
   "metadata": {
    "papermill": {
     "duration": 0.018406,
     "end_time": "2021-10-01T17:49:00.122467",
     "exception": false,
     "start_time": "2021-10-01T17:49:00.104061",
     "status": "completed"
    },
    "tags": []
   },
   "source": [
    "From here, we can see the basic statistical details of the dataset\n",
    "We can observe that the columns **url** and **body** contain null data.\n",
    "Also the dataset contains categorical as well as numerical features."
   ]
  },
  {
   "cell_type": "markdown",
   "id": "f5e70e29",
   "metadata": {
    "papermill": {
     "duration": 0.018528,
     "end_time": "2021-10-01T17:49:00.159783",
     "exception": false,
     "start_time": "2021-10-01T17:49:00.141255",
     "status": "completed"
    },
    "tags": []
   },
   "source": [
    "## Visualizing patterns in the occurrence of missing values\n",
    "\n",
    "Here we would like to see if there is some pattern in the occurrence of the missing values of a column or not. For eg. Are missing values sparsely localted all over the domain, or just located together somewhere specifically as a chunk.\n",
    "\n",
    "With a heatmap, we would also be able to observe if there is any positive or negative co-occurrence relation between missing values of different columns."
   ]
  },
  {
   "cell_type": "code",
   "execution_count": 9,
   "id": "84cff68f",
   "metadata": {
    "execution": {
     "iopub.execute_input": "2021-10-01T17:49:00.207267Z",
     "iopub.status.busy": "2021-10-01T17:49:00.206530Z",
     "iopub.status.idle": "2021-10-01T17:49:00.678199Z",
     "shell.execute_reply": "2021-10-01T17:49:00.677607Z",
     "shell.execute_reply.started": "2021-10-01T17:26:33.498108Z"
    },
    "papermill": {
     "duration": 0.499741,
     "end_time": "2021-10-01T17:49:00.678347",
     "exception": false,
     "start_time": "2021-10-01T17:49:00.178606",
     "status": "completed"
    },
    "tags": []
   },
   "outputs": [
    {
     "data": {
      "text/plain": [
       "Text(0.5, 1.0, 'Heatmap of missing data pattern')"
      ]
     },
     "execution_count": 9,
     "metadata": {},
     "output_type": "execute_result"
    },
    {
     "data": {
      "image/png": "[encoded data removed]",
      "text/plain": [
       "<Figure size 504x504 with 1 Axes>"
      ]
     },
     "metadata": {
      "needs_background": "light"
     },
     "output_type": "display_data"
    }
   ],
   "source": [
    "# Visualizing patterns in the occurrence of missing values\n",
    "plt.figure(figsize=(7,7))\n",
    "sns.heatmap(df.isna(), cbar=False)\n",
    "plt.title(\"Heatmap of missing data pattern\", fontsize=25)"
   ]
  },
  {
   "cell_type": "markdown",
   "id": "f020af4f",
   "metadata": {
    "papermill": {
     "duration": 0.019961,
     "end_time": "2021-10-01T17:49:00.718754",
     "exception": false,
     "start_time": "2021-10-01T17:49:00.698793",
     "status": "completed"
    },
    "tags": []
   },
   "source": [
    "We can observe that for url column, there is a bulk absence of values for a part of the domain. Also, there is somewhat a negative correlation between the missing values of **url** and those of **body**, meaning missing values are present for the part fo domain in **body**, where they are present for **url** and vice-versa."
   ]
  },
  {
   "cell_type": "code",
   "execution_count": 10,
   "id": "d3706bb0",
   "metadata": {
    "execution": {
     "iopub.execute_input": "2021-10-01T17:49:00.771043Z",
     "iopub.status.busy": "2021-10-01T17:49:00.770095Z",
     "iopub.status.idle": "2021-10-01T17:49:00.774040Z",
     "shell.execute_reply": "2021-10-01T17:49:00.774522Z",
     "shell.execute_reply.started": "2021-10-01T17:26:34.270033Z"
    },
    "papermill": {
     "duration": 0.035114,
     "end_time": "2021-10-01T17:49:00.774705",
     "exception": false,
     "start_time": "2021-10-01T17:49:00.739591",
     "status": "completed"
    },
    "tags": []
   },
   "outputs": [],
   "source": [
    "# Creating month and year indices with the timestamp data of the dataset\n",
    "df['year'] = pd.DatetimeIndex(df['timestamp']).year\n",
    "df['month'] = pd.DatetimeIndex(df['timestamp']).month"
   ]
  },
  {
   "cell_type": "code",
   "execution_count": 11,
   "id": "14ddca26",
   "metadata": {
    "execution": {
     "iopub.execute_input": "2021-10-01T17:49:00.820268Z",
     "iopub.status.busy": "2021-10-01T17:49:00.819617Z",
     "iopub.status.idle": "2021-10-01T17:49:01.131398Z",
     "shell.execute_reply": "2021-10-01T17:49:01.131902Z",
     "shell.execute_reply.started": "2021-10-01T17:27:02.802469Z"
    },
    "papermill": {
     "duration": 0.33653,
     "end_time": "2021-10-01T17:49:01.132093",
     "exception": false,
     "start_time": "2021-10-01T17:49:00.795563",
     "status": "completed"
    },
    "tags": []
   },
   "outputs": [
    {
     "data": {
      "text/plain": [
       "Text(0.5, 1.0, 'Heatmap of co-occurrence matrix')"
      ]
     },
     "execution_count": 11,
     "metadata": {},
     "output_type": "execute_result"
    },
    {
     "data": {
      "image/png": "[encoded data removed]",
      "text/plain": [
       "<Figure size 504x504 with 2 Axes>"
      ]
     },
     "metadata": {
      "needs_background": "light"
     },
     "output_type": "display_data"
    }
   ],
   "source": [
    "plt.figure(figsize=(7,7))\n",
    "sns.heatmap(df.corr(), annot=True)\n",
    "plt.title(\"Heatmap of co-occurrence matrix\", fontsize=25)"
   ]
  },
  {
   "cell_type": "markdown",
   "id": "1245010c",
   "metadata": {
    "papermill": {
     "duration": 0.022166,
     "end_time": "2021-10-01T17:49:01.176320",
     "exception": false,
     "start_time": "2021-10-01T17:49:01.154154",
     "status": "completed"
    },
    "tags": []
   },
   "source": [
    "We can see there is a high correlation between **year** and **created**, and **comms_num** and **score**, so one column can be dropped in each pair"
   ]
  },
  {
   "cell_type": "code",
   "execution_count": 12,
   "id": "627e8cde",
   "metadata": {
    "execution": {
     "iopub.execute_input": "2021-10-01T17:49:01.224154Z",
     "iopub.status.busy": "2021-10-01T17:49:01.223517Z",
     "iopub.status.idle": "2021-10-01T17:49:01.228491Z",
     "shell.execute_reply": "2021-10-01T17:49:01.228950Z"
    },
    "papermill": {
     "duration": 0.03082,
     "end_time": "2021-10-01T17:49:01.229160",
     "exception": false,
     "start_time": "2021-10-01T17:49:01.198340",
     "status": "completed"
    },
    "tags": []
   },
   "outputs": [],
   "source": [
    "df.drop(labels=['created', 'comms_num', 'url', 'id', 'timestamp'], axis=1, inplace=True)"
   ]
  },
  {
   "cell_type": "code",
   "execution_count": 13,
   "id": "aae5a207",
   "metadata": {
    "execution": {
     "iopub.execute_input": "2021-10-01T17:49:01.277316Z",
     "iopub.status.busy": "2021-10-01T17:49:01.276601Z",
     "iopub.status.idle": "2021-10-01T17:49:01.286235Z",
     "shell.execute_reply": "2021-10-01T17:49:01.286782Z",
     "shell.execute_reply.started": "2021-10-01T17:39:32.182798Z"
    },
    "papermill": {
     "duration": 0.035554,
     "end_time": "2021-10-01T17:49:01.286969",
     "exception": false,
     "start_time": "2021-10-01T17:49:01.251415",
     "status": "completed"
    },
    "tags": []
   },
   "outputs": [
    {
     "data": {
      "text/html": [
       "<div>\n",
       "<style scoped>\n",
       "    .dataframe tbody tr th:only-of-type {\n",
       "        vertical-align: middle;\n",
       "    }\n",
       "\n",
       "    .dataframe tbody tr th {\n",
       "        vertical-align: top;\n",
       "    }\n",
       "\n",
       "    .dataframe thead th {\n",
       "        text-align: right;\n",
       "    }\n",
       "</style>\n",
       "<table border=\"1\" class=\"dataframe\">\n",
       "  <thead>\n",
       "    <tr style=\"text-align: right;\">\n",
       "      <th></th>\n",
       "      <th>title</th>\n",
       "      <th>score</th>\n",
       "      <th>body</th>\n",
       "      <th>year</th>\n",
       "      <th>month</th>\n",
       "    </tr>\n",
       "  </thead>\n",
       "  <tbody>\n",
       "    <tr>\n",
       "      <th>0</th>\n",
       "      <td>Health Canada approves AstraZeneca COVID-19 va...</td>\n",
       "      <td>7</td>\n",
       "      <td>NaN</td>\n",
       "      <td>2021</td>\n",
       "      <td>2</td>\n",
       "    </tr>\n",
       "    <tr>\n",
       "      <th>1</th>\n",
       "      <td>COVID-19 in Canada: 'Vaccination passports' a ...</td>\n",
       "      <td>2</td>\n",
       "      <td>NaN</td>\n",
       "      <td>2021</td>\n",
       "      <td>2</td>\n",
       "    </tr>\n",
       "    <tr>\n",
       "      <th>2</th>\n",
       "      <td>Coronavirus variants could fuel Canada's third...</td>\n",
       "      <td>6</td>\n",
       "      <td>NaN</td>\n",
       "      <td>2021</td>\n",
       "      <td>2</td>\n",
       "    </tr>\n",
       "    <tr>\n",
       "      <th>3</th>\n",
       "      <td>Canadian government to extend COVID-19 emergen...</td>\n",
       "      <td>1</td>\n",
       "      <td>NaN</td>\n",
       "      <td>2021</td>\n",
       "      <td>2</td>\n",
       "    </tr>\n",
       "    <tr>\n",
       "      <th>4</th>\n",
       "      <td>Canada: Pfizer is 'extremely committed' to mee...</td>\n",
       "      <td>6</td>\n",
       "      <td>NaN</td>\n",
       "      <td>2021</td>\n",
       "      <td>2</td>\n",
       "    </tr>\n",
       "  </tbody>\n",
       "</table>\n",
       "</div>"
      ],
      "text/plain": [
       "                                               title  score body  year  month\n",
       "0  Health Canada approves AstraZeneca COVID-19 va...      7  NaN  2021      2\n",
       "1  COVID-19 in Canada: 'Vaccination passports' a ...      2  NaN  2021      2\n",
       "2  Coronavirus variants could fuel Canada's third...      6  NaN  2021      2\n",
       "3  Canadian government to extend COVID-19 emergen...      1  NaN  2021      2\n",
       "4  Canada: Pfizer is 'extremely committed' to mee...      6  NaN  2021      2"
      ]
     },
     "execution_count": 13,
     "metadata": {},
     "output_type": "execute_result"
    }
   ],
   "source": [
    "df.head()"
   ]
  },
  {
   "cell_type": "code",
   "execution_count": 14,
   "id": "c61c7a58",
   "metadata": {
    "execution": {
     "iopub.execute_input": "2021-10-01T17:49:01.335913Z",
     "iopub.status.busy": "2021-10-01T17:49:01.335275Z",
     "iopub.status.idle": "2021-10-01T17:49:01.338232Z",
     "shell.execute_reply": "2021-10-01T17:49:01.338681Z"
    },
    "papermill": {
     "duration": 0.029182,
     "end_time": "2021-10-01T17:49:01.338859",
     "exception": false,
     "start_time": "2021-10-01T17:49:01.309677",
     "status": "completed"
    },
    "tags": []
   },
   "outputs": [],
   "source": [
    "# Import libraries for pr-processing"
   ]
  }
 ],
 "metadata": {
  "kernelspec": {
   "display_name": "Python 3",
   "language": "python",
   "name": "python3"
  },
  "language_info": {
   "codemirror_mode": {
    "name": "ipython",
    "version": 3
   },
   "file_extension": ".py",
   "mimetype": "text/x-python",
   "name": "python",
   "nbconvert_exporter": "python",
   "pygments_lexer": "ipython3",
   "version": "3.7.10"
  },
  "papermill": {
   "default_parameters": {},
   "duration": 12.772527,
   "end_time": "2021-10-01T17:49:02.958407",
   "environment_variables": {},
   "exception": null,
   "input_path": "__notebook__.ipynb",
   "output_path": "__notebook__.ipynb",
   "parameters": {},
   "start_time": "2021-10-01T17:48:50.185880",
   "version": "2.3.3"
  }
 },
 "nbformat": 4,
 "nbformat_minor": 5
}
