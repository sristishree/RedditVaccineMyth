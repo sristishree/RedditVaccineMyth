{
 "cells": [
  {
   "cell_type": "markdown",
   "id": "e7d11df6",
   "metadata": {
    "papermill": {
     "duration": 0.016042,
     "end_time": "2021-10-02T20:22:28.923841",
     "exception": false,
     "start_time": "2021-10-02T20:22:28.907799",
     "status": "completed"
    },
    "tags": []
   },
   "source": [
    "# Reddit Vaccine Myth Sentiment Analysis\n",
    "\n",
    "## Introduction\n",
    "\n",
    "According to the description of this dataset, r/VaccineMyths is a subreddit where myths related to various vaccines are discussed.\n",
    "\n",
    "It contains both posts and comments.\n",
    "The sturcture of this dataset can be understood by these fields:\n",
    "- title - relevant for posts\n",
    "- score - relevant for posts - based on impact, number of comments\n",
    "- id - unique id for posts/comments\n",
    "- url - relevant for posts - url of post thread\n",
    "- commns_num - relevant for post - number of comments to this post\n",
    "- created - date of creation\n",
    "- body - relevant for posts/comments - text of the post or comment\n",
    "- timestamp - timestamp\n",
    "\n",
    "Our task is to perform sentiment analysis and then topic modeling on this dataset.\n",
    "The topic modeling will be particularly helpful for the medical study of this dataset, because it will let us better understand what are the factors that are related to the originating of particular types of myths surrouding the vaccines."
   ]
  },
  {
   "cell_type": "code",
   "execution_count": 1,
   "id": "ae172d96",
   "metadata": {
    "_cell_guid": "b1076dfc-b9ad-4769-8c92-a6c4dae69d19",
    "_uuid": "8f2839f25d086af736a60e9eeb907d3b93b6e0e5",
    "execution": {
     "iopub.execute_input": "2021-10-02T20:22:28.958488Z",
     "iopub.status.busy": "2021-10-02T20:22:28.957452Z",
     "iopub.status.idle": "2021-10-02T20:22:29.867876Z",
     "shell.execute_reply": "2021-10-02T20:22:29.868539Z",
     "shell.execute_reply.started": "2021-10-02T18:34:15.950653Z"
    },
    "papermill": {
     "duration": 0.929257,
     "end_time": "2021-10-02T20:22:29.868833",
     "exception": false,
     "start_time": "2021-10-02T20:22:28.939576",
     "status": "completed"
    },
    "tags": []
   },
   "outputs": [
    {
     "name": "stdout",
     "output_type": "stream",
     "text": [
      "/kaggle/input/reddit-vaccine-myths/reddit_vm.csv\n"
     ]
    }
   ],
   "source": [
    "import numpy as np # linear algebra\n",
    "import pandas as pd # data processing, CSV file I/O (e.g. pd.read_csv)\n",
    "import matplotlib.pyplot as plt\n",
    "import seaborn as sns\n",
    "\n",
    "import os\n",
    "for dirname, _, filenames in os.walk('/kaggle/input'):\n",
    "    for filename in filenames:\n",
    "        print(os.path.join(dirname, filename))\n",
    "dataset_path = os.path.join(dirname, filenames[0])"
   ]
  },
  {
   "cell_type": "code",
   "execution_count": 2,
   "id": "1e36751d",
   "metadata": {
    "execution": {
     "iopub.execute_input": "2021-10-02T20:22:29.907752Z",
     "iopub.status.busy": "2021-10-02T20:22:29.907162Z",
     "iopub.status.idle": "2021-10-02T20:22:29.910251Z",
     "shell.execute_reply": "2021-10-02T20:22:29.909640Z",
     "shell.execute_reply.started": "2021-10-02T18:34:16.952324Z"
    },
    "papermill": {
     "duration": 0.023392,
     "end_time": "2021-10-02T20:22:29.910380",
     "exception": false,
     "start_time": "2021-10-02T20:22:29.886988",
     "status": "completed"
    },
    "tags": []
   },
   "outputs": [],
   "source": [
    "# Class for decorated printing\n",
    "# Source: https://stackoverflow.com/a/17303428\n",
    "class color:\n",
    "   PURPLE = '\\033[95m'\n",
    "   CYAN = '\\033[96m'\n",
    "   DARKCYAN = '\\033[36m'\n",
    "   BLUE = '\\033[94m'\n",
    "   GREEN = '\\033[92m'\n",
    "   YELLOW = '\\033[93m'\n",
    "   RED = '\\033[91m'\n",
    "   BOLD = '\\033[1m'\n",
    "   UNDERLINE = '\\033[4m'\n",
    "   END = '\\033[0m'"
   ]
  },
  {
   "cell_type": "code",
   "execution_count": 3,
   "id": "0ae76760",
   "metadata": {
    "execution": {
     "iopub.execute_input": "2021-10-02T20:22:29.946042Z",
     "iopub.status.busy": "2021-10-02T20:22:29.945389Z",
     "iopub.status.idle": "2021-10-02T20:22:30.003217Z",
     "shell.execute_reply": "2021-10-02T20:22:30.003709Z",
     "shell.execute_reply.started": "2021-10-02T18:34:17.626634Z"
    },
    "papermill": {
     "duration": 0.078226,
     "end_time": "2021-10-02T20:22:30.003904",
     "exception": false,
     "start_time": "2021-10-02T20:22:29.925678",
     "status": "completed"
    },
    "tags": []
   },
   "outputs": [
    {
     "data": {
      "text/html": [
       "<div>\n",
       "<style scoped>\n",
       "    .dataframe tbody tr th:only-of-type {\n",
       "        vertical-align: middle;\n",
       "    }\n",
       "\n",
       "    .dataframe tbody tr th {\n",
       "        vertical-align: top;\n",
       "    }\n",
       "\n",
       "    .dataframe thead th {\n",
       "        text-align: right;\n",
       "    }\n",
       "</style>\n",
       "<table border=\"1\" class=\"dataframe\">\n",
       "  <thead>\n",
       "    <tr style=\"text-align: right;\">\n",
       "      <th></th>\n",
       "      <th>title</th>\n",
       "      <th>score</th>\n",
       "      <th>id</th>\n",
       "      <th>url</th>\n",
       "      <th>comms_num</th>\n",
       "      <th>created</th>\n",
       "      <th>body</th>\n",
       "      <th>timestamp</th>\n",
       "    </tr>\n",
       "  </thead>\n",
       "  <tbody>\n",
       "    <tr>\n",
       "      <th>0</th>\n",
       "      <td>Health Canada approves AstraZeneca COVID-19 va...</td>\n",
       "      <td>7</td>\n",
       "      <td>lt74vw</td>\n",
       "      <td>https://www.canadaforums.ca/2021/02/health-can...</td>\n",
       "      <td>0</td>\n",
       "      <td>1.614400e+09</td>\n",
       "      <td>NaN</td>\n",
       "      <td>2021-02-27 06:33:45</td>\n",
       "    </tr>\n",
       "    <tr>\n",
       "      <th>1</th>\n",
       "      <td>COVID-19 in Canada: 'Vaccination passports' a ...</td>\n",
       "      <td>2</td>\n",
       "      <td>lsh0ij</td>\n",
       "      <td>https://www.canadaforums.ca/2021/02/covid-19-i...</td>\n",
       "      <td>1</td>\n",
       "      <td>1.614316e+09</td>\n",
       "      <td>NaN</td>\n",
       "      <td>2021-02-26 07:11:07</td>\n",
       "    </tr>\n",
       "    <tr>\n",
       "      <th>2</th>\n",
       "      <td>Coronavirus variants could fuel Canada's third...</td>\n",
       "      <td>6</td>\n",
       "      <td>lohlle</td>\n",
       "      <td>https://www.canadaforums.ca/2021/02/coronaviru...</td>\n",
       "      <td>0</td>\n",
       "      <td>1.613887e+09</td>\n",
       "      <td>NaN</td>\n",
       "      <td>2021-02-21 07:50:08</td>\n",
       "    </tr>\n",
       "    <tr>\n",
       "      <th>3</th>\n",
       "      <td>Canadian government to extend COVID-19 emergen...</td>\n",
       "      <td>1</td>\n",
       "      <td>lnptv8</td>\n",
       "      <td>https://www.canadaforums.ca/2021/02/canadian-g...</td>\n",
       "      <td>0</td>\n",
       "      <td>1.613796e+09</td>\n",
       "      <td>NaN</td>\n",
       "      <td>2021-02-20 06:35:13</td>\n",
       "    </tr>\n",
       "    <tr>\n",
       "      <th>4</th>\n",
       "      <td>Canada: Pfizer is 'extremely committed' to mee...</td>\n",
       "      <td>6</td>\n",
       "      <td>lkslm6</td>\n",
       "      <td>https://www.canadaforums.ca/2021/02/canada-pfi...</td>\n",
       "      <td>0</td>\n",
       "      <td>1.613468e+09</td>\n",
       "      <td>NaN</td>\n",
       "      <td>2021-02-16 11:36:28</td>\n",
       "    </tr>\n",
       "  </tbody>\n",
       "</table>\n",
       "</div>"
      ],
      "text/plain": [
       "                                               title  score      id  \\\n",
       "0  Health Canada approves AstraZeneca COVID-19 va...      7  lt74vw   \n",
       "1  COVID-19 in Canada: 'Vaccination passports' a ...      2  lsh0ij   \n",
       "2  Coronavirus variants could fuel Canada's third...      6  lohlle   \n",
       "3  Canadian government to extend COVID-19 emergen...      1  lnptv8   \n",
       "4  Canada: Pfizer is 'extremely committed' to mee...      6  lkslm6   \n",
       "\n",
       "                                                 url  comms_num       created  \\\n",
       "0  https://www.canadaforums.ca/2021/02/health-can...          0  1.614400e+09   \n",
       "1  https://www.canadaforums.ca/2021/02/covid-19-i...          1  1.614316e+09   \n",
       "2  https://www.canadaforums.ca/2021/02/coronaviru...          0  1.613887e+09   \n",
       "3  https://www.canadaforums.ca/2021/02/canadian-g...          0  1.613796e+09   \n",
       "4  https://www.canadaforums.ca/2021/02/canada-pfi...          0  1.613468e+09   \n",
       "\n",
       "  body            timestamp  \n",
       "0  NaN  2021-02-27 06:33:45  \n",
       "1  NaN  2021-02-26 07:11:07  \n",
       "2  NaN  2021-02-21 07:50:08  \n",
       "3  NaN  2021-02-20 06:35:13  \n",
       "4  NaN  2021-02-16 11:36:28  "
      ]
     },
     "execution_count": 3,
     "metadata": {},
     "output_type": "execute_result"
    }
   ],
   "source": [
    "# Read data\n",
    "df = pd.read_csv(dataset_path)\n",
    "# Print top 5 rows\n",
    "df.head()"
   ]
  },
  {
   "cell_type": "markdown",
   "id": "1afc6008",
   "metadata": {
    "papermill": {
     "duration": 0.015526,
     "end_time": "2021-10-02T20:22:30.035396",
     "exception": false,
     "start_time": "2021-10-02T20:22:30.019870",
     "status": "completed"
    },
    "tags": []
   },
   "source": [
    "### Exploratory Data Analysis\n",
    "\n",
    "I have written some reusable utility functions for the EDA"
   ]
  },
  {
   "cell_type": "code",
   "execution_count": 4,
   "id": "0216230f",
   "metadata": {
    "execution": {
     "iopub.execute_input": "2021-10-02T20:22:30.069887Z",
     "iopub.status.busy": "2021-10-02T20:22:30.069291Z",
     "iopub.status.idle": "2021-10-02T20:22:30.073210Z",
     "shell.execute_reply": "2021-10-02T20:22:30.073667Z",
     "shell.execute_reply.started": "2021-10-02T18:34:19.671427Z"
    },
    "papermill": {
     "duration": 0.022738,
     "end_time": "2021-10-02T20:22:30.073841",
     "exception": false,
     "start_time": "2021-10-02T20:22:30.051103",
     "status": "completed"
    },
    "tags": []
   },
   "outputs": [
    {
     "name": "stdout",
     "output_type": "stream",
     "text": [
      "Shape of dataset: (1585, 8)\n"
     ]
    }
   ],
   "source": [
    "# Shape of dataset\n",
    "print(f'Shape of dataset: {df.shape}')"
   ]
  },
  {
   "cell_type": "code",
   "execution_count": 5,
   "id": "ac5fd28a",
   "metadata": {
    "execution": {
     "iopub.execute_input": "2021-10-02T20:22:30.110906Z",
     "iopub.status.busy": "2021-10-02T20:22:30.110302Z",
     "iopub.status.idle": "2021-10-02T20:22:30.115293Z",
     "shell.execute_reply": "2021-10-02T20:22:30.115722Z",
     "shell.execute_reply.started": "2021-10-02T18:34:21.065685Z"
    },
    "papermill": {
     "duration": 0.024559,
     "end_time": "2021-10-02T20:22:30.115894",
     "exception": false,
     "start_time": "2021-10-02T20:22:30.091335",
     "status": "completed"
    },
    "tags": []
   },
   "outputs": [],
   "source": [
    "def basic_information(df):\n",
    "    print(color.PURPLE + color.BOLD + 'Description: \\n' + color.END)\n",
    "    display(df.describe())\n",
    "    print(color.PURPLE + color.BOLD + '\\nInformation: \\n' + color.END)\n",
    "    display(df.info())\n",
    "    print(color.PURPLE + color.BOLD + '\\nNaN Values: \\n' + color.END)\n",
    "    display(pd.isna(df).sum())\n",
    "    print(color.PURPLE + color.BOLD + '\\nDuplicate rows: \\n' + color.END)\n",
    "    # display(df.duplicated().value_counts())\n",
    "    display(df[df.duplicated()])"
   ]
  },
  {
   "cell_type": "code",
   "execution_count": 6,
   "id": "ed35a505",
   "metadata": {
    "execution": {
     "iopub.execute_input": "2021-10-02T20:22:30.155635Z",
     "iopub.status.busy": "2021-10-02T20:22:30.153619Z",
     "iopub.status.idle": "2021-10-02T20:22:30.157288Z",
     "shell.execute_reply": "2021-10-02T20:22:30.157751Z",
     "shell.execute_reply.started": "2021-10-02T18:34:21.501300Z"
    },
    "papermill": {
     "duration": 0.025753,
     "end_time": "2021-10-02T20:22:30.157925",
     "exception": false,
     "start_time": "2021-10-02T20:22:30.132172",
     "status": "completed"
    },
    "tags": []
   },
   "outputs": [],
   "source": [
    "def feature_type(df):\n",
    "    '''\n",
    "    This function finds which features in given dataframe \n",
    "    are of categorical type and which are numerical\n",
    "    \n",
    "    Input - df:Dataframe\n",
    "    Output - categorical_features:list, numerical_features:list \n",
    "    '''\n",
    "    categorical_features = []\n",
    "    numerical_features = []\n",
    "    \n",
    "    for column in df.columns:\n",
    "        if df[column].dtype == object:\n",
    "            categorical_features.append(column)\n",
    "        else:\n",
    "            numerical_features.append(column)\n",
    "            \n",
    "    return categorical_features, numerical_features"
   ]
  },
  {
   "cell_type": "code",
   "execution_count": 7,
   "id": "166f5f39",
   "metadata": {
    "execution": {
     "iopub.execute_input": "2021-10-02T20:22:30.193041Z",
     "iopub.status.busy": "2021-10-02T20:22:30.192491Z",
     "iopub.status.idle": "2021-10-02T20:22:30.251271Z",
     "shell.execute_reply": "2021-10-02T20:22:30.250635Z",
     "shell.execute_reply.started": "2021-10-02T18:34:23.296927Z"
    },
    "papermill": {
     "duration": 0.077415,
     "end_time": "2021-10-02T20:22:30.251401",
     "exception": false,
     "start_time": "2021-10-02T20:22:30.173986",
     "status": "completed"
    },
    "tags": []
   },
   "outputs": [
    {
     "name": "stdout",
     "output_type": "stream",
     "text": [
      "\u001b[95m\u001b[1mDescription: \n",
      "\u001b[0m\n"
     ]
    },
    {
     "data": {
      "text/html": [
       "<div>\n",
       "<style scoped>\n",
       "    .dataframe tbody tr th:only-of-type {\n",
       "        vertical-align: middle;\n",
       "    }\n",
       "\n",
       "    .dataframe tbody tr th {\n",
       "        vertical-align: top;\n",
       "    }\n",
       "\n",
       "    .dataframe thead th {\n",
       "        text-align: right;\n",
       "    }\n",
       "</style>\n",
       "<table border=\"1\" class=\"dataframe\">\n",
       "  <thead>\n",
       "    <tr style=\"text-align: right;\">\n",
       "      <th></th>\n",
       "      <th>score</th>\n",
       "      <th>comms_num</th>\n",
       "      <th>created</th>\n",
       "    </tr>\n",
       "  </thead>\n",
       "  <tbody>\n",
       "    <tr>\n",
       "      <th>count</th>\n",
       "      <td>1585.000000</td>\n",
       "      <td>1585.000000</td>\n",
       "      <td>1.585000e+03</td>\n",
       "    </tr>\n",
       "    <tr>\n",
       "      <th>mean</th>\n",
       "      <td>3.686435</td>\n",
       "      <td>1.851735</td>\n",
       "      <td>1.546237e+09</td>\n",
       "    </tr>\n",
       "    <tr>\n",
       "      <th>std</th>\n",
       "      <td>30.027315</td>\n",
       "      <td>16.221715</td>\n",
       "      <td>7.076341e+07</td>\n",
       "    </tr>\n",
       "    <tr>\n",
       "      <th>min</th>\n",
       "      <td>-12.000000</td>\n",
       "      <td>0.000000</td>\n",
       "      <td>1.389595e+09</td>\n",
       "    </tr>\n",
       "    <tr>\n",
       "      <th>25%</th>\n",
       "      <td>1.000000</td>\n",
       "      <td>0.000000</td>\n",
       "      <td>1.554325e+09</td>\n",
       "    </tr>\n",
       "    <tr>\n",
       "      <th>50%</th>\n",
       "      <td>1.000000</td>\n",
       "      <td>0.000000</td>\n",
       "      <td>1.569120e+09</td>\n",
       "    </tr>\n",
       "    <tr>\n",
       "      <th>75%</th>\n",
       "      <td>3.000000</td>\n",
       "      <td>1.000000</td>\n",
       "      <td>1.583789e+09</td>\n",
       "    </tr>\n",
       "    <tr>\n",
       "      <th>max</th>\n",
       "      <td>1185.000000</td>\n",
       "      <td>596.000000</td>\n",
       "      <td>1.631878e+09</td>\n",
       "    </tr>\n",
       "  </tbody>\n",
       "</table>\n",
       "</div>"
      ],
      "text/plain": [
       "             score    comms_num       created\n",
       "count  1585.000000  1585.000000  1.585000e+03\n",
       "mean      3.686435     1.851735  1.546237e+09\n",
       "std      30.027315    16.221715  7.076341e+07\n",
       "min     -12.000000     0.000000  1.389595e+09\n",
       "25%       1.000000     0.000000  1.554325e+09\n",
       "50%       1.000000     0.000000  1.569120e+09\n",
       "75%       3.000000     1.000000  1.583789e+09\n",
       "max    1185.000000   596.000000  1.631878e+09"
      ]
     },
     "metadata": {},
     "output_type": "display_data"
    },
    {
     "name": "stdout",
     "output_type": "stream",
     "text": [
      "\u001b[95m\u001b[1m\n",
      "Information: \n",
      "\u001b[0m\n",
      "<class 'pandas.core.frame.DataFrame'>\n",
      "RangeIndex: 1585 entries, 0 to 1584\n",
      "Data columns (total 8 columns):\n",
      " #   Column     Non-Null Count  Dtype  \n",
      "---  ------     --------------  -----  \n",
      " 0   title      1585 non-null   object \n",
      " 1   score      1585 non-null   int64  \n",
      " 2   id         1585 non-null   object \n",
      " 3   url        464 non-null    object \n",
      " 4   comms_num  1585 non-null   int64  \n",
      " 5   created    1585 non-null   float64\n",
      " 6   body       1213 non-null   object \n",
      " 7   timestamp  1585 non-null   object \n",
      "dtypes: float64(1), int64(2), object(5)\n",
      "memory usage: 99.2+ KB\n"
     ]
    },
    {
     "data": {
      "text/plain": [
       "None"
      ]
     },
     "metadata": {},
     "output_type": "display_data"
    },
    {
     "name": "stdout",
     "output_type": "stream",
     "text": [
      "\u001b[95m\u001b[1m\n",
      "NaN Values: \n",
      "\u001b[0m\n"
     ]
    },
    {
     "data": {
      "text/plain": [
       "title           0\n",
       "score           0\n",
       "id              0\n",
       "url          1121\n",
       "comms_num       0\n",
       "created         0\n",
       "body          372\n",
       "timestamp       0\n",
       "dtype: int64"
      ]
     },
     "metadata": {},
     "output_type": "display_data"
    },
    {
     "name": "stdout",
     "output_type": "stream",
     "text": [
      "\u001b[95m\u001b[1m\n",
      "Duplicate rows: \n",
      "\u001b[0m\n"
     ]
    },
    {
     "data": {
      "text/html": [
       "<div>\n",
       "<style scoped>\n",
       "    .dataframe tbody tr th:only-of-type {\n",
       "        vertical-align: middle;\n",
       "    }\n",
       "\n",
       "    .dataframe tbody tr th {\n",
       "        vertical-align: top;\n",
       "    }\n",
       "\n",
       "    .dataframe thead th {\n",
       "        text-align: right;\n",
       "    }\n",
       "</style>\n",
       "<table border=\"1\" class=\"dataframe\">\n",
       "  <thead>\n",
       "    <tr style=\"text-align: right;\">\n",
       "      <th></th>\n",
       "      <th>title</th>\n",
       "      <th>score</th>\n",
       "      <th>id</th>\n",
       "      <th>url</th>\n",
       "      <th>comms_num</th>\n",
       "      <th>created</th>\n",
       "      <th>body</th>\n",
       "      <th>timestamp</th>\n",
       "    </tr>\n",
       "  </thead>\n",
       "  <tbody>\n",
       "  </tbody>\n",
       "</table>\n",
       "</div>"
      ],
      "text/plain": [
       "Empty DataFrame\n",
       "Columns: [title, score, id, url, comms_num, created, body, timestamp]\n",
       "Index: []"
      ]
     },
     "metadata": {},
     "output_type": "display_data"
    }
   ],
   "source": [
    "basic_information(df)"
   ]
  },
  {
   "cell_type": "code",
   "execution_count": 8,
   "id": "43b612ee",
   "metadata": {
    "execution": {
     "iopub.execute_input": "2021-10-02T20:22:30.294595Z",
     "iopub.status.busy": "2021-10-02T20:22:30.293858Z",
     "iopub.status.idle": "2021-10-02T20:22:30.296681Z",
     "shell.execute_reply": "2021-10-02T20:22:30.297147Z",
     "shell.execute_reply.started": "2021-10-02T18:34:24.402611Z"
    },
    "papermill": {
     "duration": 0.027344,
     "end_time": "2021-10-02T20:22:30.297308",
     "exception": false,
     "start_time": "2021-10-02T20:22:30.269964",
     "status": "completed"
    },
    "tags": []
   },
   "outputs": [
    {
     "name": "stdout",
     "output_type": "stream",
     "text": [
      "\u001b[95m\u001b[1mCategorical Features: \u001b[0m['title', 'id', 'url', 'body', 'timestamp']\n",
      "\u001b[95m\u001b[1mCategorical Features: \u001b[0m['title', 'id', 'url', 'body', 'timestamp']\n"
     ]
    }
   ],
   "source": [
    "categorical_features, numerical_features = feature_type(df)\n",
    "print(color.PURPLE + color.BOLD + 'Categorical Features: ' + color.END + f'{categorical_features}')\n",
    "print(color.PURPLE + color.BOLD + 'Categorical Features: ' + color.END + f'{categorical_features}')"
   ]
  },
  {
   "cell_type": "markdown",
   "id": "8a0acf94",
   "metadata": {
    "papermill": {
     "duration": 0.018439,
     "end_time": "2021-10-02T20:22:30.334447",
     "exception": false,
     "start_time": "2021-10-02T20:22:30.316008",
     "status": "completed"
    },
    "tags": []
   },
   "source": [
    "From here, we can see the basic statistical details of the dataset\n",
    "We can observe that the columns **url** and **body** contain null data.\n",
    "Also the dataset contains categorical as well as numerical features."
   ]
  },
  {
   "cell_type": "markdown",
   "id": "43acfddc",
   "metadata": {
    "papermill": {
     "duration": 0.018432,
     "end_time": "2021-10-02T20:22:30.372980",
     "exception": false,
     "start_time": "2021-10-02T20:22:30.354548",
     "status": "completed"
    },
    "tags": []
   },
   "source": [
    "## Visualizing patterns in the occurrence of missing values\n",
    "\n",
    "Here we would like to see if there is some pattern in the occurrence of the missing values of a column or not. For eg. Are missing values sparsely localted all over the domain, or just located together somewhere specifically as a chunk.\n",
    "\n",
    "With a heatmap, we would also be able to observe if there is any positive or negative co-occurrence relation between missing values of different columns."
   ]
  },
  {
   "cell_type": "code",
   "execution_count": 9,
   "id": "9c3aeff6",
   "metadata": {
    "execution": {
     "iopub.execute_input": "2021-10-02T20:22:30.418750Z",
     "iopub.status.busy": "2021-10-02T20:22:30.417828Z",
     "iopub.status.idle": "2021-10-02T20:22:30.877323Z",
     "shell.execute_reply": "2021-10-02T20:22:30.876708Z",
     "shell.execute_reply.started": "2021-10-02T18:34:27.169154Z"
    },
    "papermill": {
     "duration": 0.485801,
     "end_time": "2021-10-02T20:22:30.877461",
     "exception": false,
     "start_time": "2021-10-02T20:22:30.391660",
     "status": "completed"
    },
    "tags": []
   },
   "outputs": [
    {
     "data": {
      "text/plain": [
       "Text(0.5, 1.0, 'Heatmap of missing data pattern')"
      ]
     },
     "execution_count": 9,
     "metadata": {},
     "output_type": "execute_result"
    },
    {
     "data": {
      "image/png": "[encoded data removed]",
      "text/plain": [
       "<Figure size 504x504 with 1 Axes>"
      ]
     },
     "metadata": {
      "needs_background": "light"
     },
     "output_type": "display_data"
    }
   ],
   "source": [
    "# Visualizing patterns in the occurrence of missing values\n",
    "plt.figure(figsize=(7,7))\n",
    "sns.heatmap(df.isna(), cbar=False)\n",
    "plt.title(\"Heatmap of missing data pattern\", fontsize=25)"
   ]
  },
  {
   "cell_type": "markdown",
   "id": "ef0cb9e0",
   "metadata": {
    "papermill": {
     "duration": 0.020782,
     "end_time": "2021-10-02T20:22:30.918295",
     "exception": false,
     "start_time": "2021-10-02T20:22:30.897513",
     "status": "completed"
    },
    "tags": []
   },
   "source": [
    "We can observe that for url column, there is a bulk absence of values for a part of the domain. Also, there is somewhat a negative correlation between the missing values of **url** and those of **body**, meaning missing values are present for the part fo domain in **body**, where they are present for **url** and vice-versa."
   ]
  },
  {
   "cell_type": "code",
   "execution_count": 10,
   "id": "9ae4b275",
   "metadata": {
    "execution": {
     "iopub.execute_input": "2021-10-02T20:22:30.966949Z",
     "iopub.status.busy": "2021-10-02T20:22:30.964831Z",
     "iopub.status.idle": "2021-10-02T20:22:30.971137Z",
     "shell.execute_reply": "2021-10-02T20:22:30.970585Z",
     "shell.execute_reply.started": "2021-10-02T18:34:31.339137Z"
    },
    "papermill": {
     "duration": 0.032848,
     "end_time": "2021-10-02T20:22:30.971274",
     "exception": false,
     "start_time": "2021-10-02T20:22:30.938426",
     "status": "completed"
    },
    "tags": []
   },
   "outputs": [],
   "source": [
    "# Creating month and year indices with the timestamp data of the dataset\n",
    "df['year'] = pd.DatetimeIndex(df['timestamp']).year\n",
    "df['month'] = pd.DatetimeIndex(df['timestamp']).month"
   ]
  },
  {
   "cell_type": "code",
   "execution_count": 11,
   "id": "9f93428d",
   "metadata": {
    "execution": {
     "iopub.execute_input": "2021-10-02T20:22:31.041098Z",
     "iopub.status.busy": "2021-10-02T20:22:31.040162Z",
     "iopub.status.idle": "2021-10-02T20:22:32.141639Z",
     "shell.execute_reply": "2021-10-02T20:22:32.141152Z",
     "shell.execute_reply.started": "2021-10-02T18:34:33.684931Z"
    },
    "papermill": {
     "duration": 1.150173,
     "end_time": "2021-10-02T20:22:32.141788",
     "exception": false,
     "start_time": "2021-10-02T20:22:30.991615",
     "status": "completed"
    },
    "tags": []
   },
   "outputs": [
    {
     "data": {
      "text/plain": [
       "Text(0.5, 1.0, 'Monthwise count every year')"
      ]
     },
     "execution_count": 11,
     "metadata": {},
     "output_type": "execute_result"
    },
    {
     "data": {
      "image/png": "[encoded data removed]",
      "text/plain": [
       "<Figure size 1440x432 with 2 Axes>"
      ]
     },
     "metadata": {
      "needs_background": "light"
     },
     "output_type": "display_data"
    },
    {
     "data": {
      "image/png": "[encoded data removed]",
      "text/plain": [
       "<Figure size 1440x432 with 1 Axes>"
      ]
     },
     "metadata": {
      "needs_background": "light"
     },
     "output_type": "display_data"
    }
   ],
   "source": [
    "# Count plots\n",
    "plt.figure(figsize=(20,6))\n",
    "\n",
    "plt.subplot(1,2,1)\n",
    "sns.countplot(x='year', data=df, palette='husl')\n",
    "plt.xlabel(\"Year\", fontsize=15)\n",
    "plt.ylabel(\"Count\", fontsize=15)\n",
    "plt.title(\"Yearwise count\", fontsize=25)\n",
    "\n",
    "plt.subplot(1,2,2)\n",
    "sns.countplot(x='month', data=df, palette='husl')\n",
    "plt.xlabel(\"Month\", fontsize=15)\n",
    "plt.ylabel(\"Count\", fontsize=15)\n",
    "plt.title(\"Monthwise count\", fontsize=25)\n",
    "\n",
    "plt.figure(figsize=(20,6))\n",
    "sns.countplot(x='month', data=df, hue='year', palette='Paired')\n",
    "plt.xlabel(\"Month\", fontsize=15)\n",
    "plt.ylabel(\"Count\", fontsize=15)\n",
    "plt.title(\"Monthwise count every year\", fontsize=25)"
   ]
  },
  {
   "cell_type": "markdown",
   "id": "77f0cb94",
   "metadata": {
    "papermill": {
     "duration": 0.022578,
     "end_time": "2021-10-02T20:22:32.186880",
     "exception": false,
     "start_time": "2021-10-02T20:22:32.164302",
     "status": "completed"
    },
    "tags": []
   },
   "source": [
    "**Important Findings:**\n",
    "- Highest number of articles were published in the year 2020, and lowest in 2019\n",
    "- Highest number of articles monthwise were published in the month"
   ]
  },
  {
   "cell_type": "code",
   "execution_count": 12,
   "id": "85dfc5fb",
   "metadata": {
    "execution": {
     "iopub.execute_input": "2021-10-02T20:22:32.235402Z",
     "iopub.status.busy": "2021-10-02T20:22:32.234741Z",
     "iopub.status.idle": "2021-10-02T20:22:32.553341Z",
     "shell.execute_reply": "2021-10-02T20:22:32.553849Z",
     "shell.execute_reply.started": "2021-10-02T18:34:38.694385Z"
    },
    "papermill": {
     "duration": 0.344292,
     "end_time": "2021-10-02T20:22:32.554015",
     "exception": false,
     "start_time": "2021-10-02T20:22:32.209723",
     "status": "completed"
    },
    "tags": []
   },
   "outputs": [
    {
     "data": {
      "text/plain": [
       "Text(0.5, 1.0, 'Heatmap of co-occurrence matrix')"
      ]
     },
     "execution_count": 12,
     "metadata": {},
     "output_type": "execute_result"
    },
    {
     "data": {
      "image/png": "[encoded data removed]",
      "text/plain": [
       "<Figure size 504x504 with 2 Axes>"
      ]
     },
     "metadata": {
      "needs_background": "light"
     },
     "output_type": "display_data"
    }
   ],
   "source": [
    "plt.figure(figsize=(7,7))\n",
    "sns.heatmap(df.corr(method='pearson'), annot=True)\n",
    "plt.title(\"Heatmap of co-occurrence matrix\", fontsize=25)"
   ]
  },
  {
   "cell_type": "markdown",
   "id": "0d19002b",
   "metadata": {
    "papermill": {
     "duration": 0.024336,
     "end_time": "2021-10-02T20:22:32.601941",
     "exception": false,
     "start_time": "2021-10-02T20:22:32.577605",
     "status": "completed"
    },
    "tags": []
   },
   "source": [
    "We can see there is a high correlation between **year** and **created**, and **comms_num** and **score**, so one column can be dropped in each pair"
   ]
  },
  {
   "cell_type": "code",
   "execution_count": 13,
   "id": "21bd28b3",
   "metadata": {
    "execution": {
     "iopub.execute_input": "2021-10-02T20:22:32.654611Z",
     "iopub.status.busy": "2021-10-02T20:22:32.654027Z",
     "iopub.status.idle": "2021-10-02T20:22:32.662209Z",
     "shell.execute_reply": "2021-10-02T20:22:32.662731Z",
     "shell.execute_reply.started": "2021-10-02T18:34:44.553156Z"
    },
    "papermill": {
     "duration": 0.037317,
     "end_time": "2021-10-02T20:22:32.662905",
     "exception": false,
     "start_time": "2021-10-02T20:22:32.625588",
     "status": "completed"
    },
    "tags": []
   },
   "outputs": [
    {
     "data": {
      "text/html": [
       "<div>\n",
       "<style scoped>\n",
       "    .dataframe tbody tr th:only-of-type {\n",
       "        vertical-align: middle;\n",
       "    }\n",
       "\n",
       "    .dataframe tbody tr th {\n",
       "        vertical-align: top;\n",
       "    }\n",
       "\n",
       "    .dataframe thead th {\n",
       "        text-align: right;\n",
       "    }\n",
       "</style>\n",
       "<table border=\"1\" class=\"dataframe\">\n",
       "  <thead>\n",
       "    <tr style=\"text-align: right;\">\n",
       "      <th></th>\n",
       "      <th>title</th>\n",
       "      <th>score</th>\n",
       "      <th>body</th>\n",
       "      <th>year</th>\n",
       "      <th>month</th>\n",
       "    </tr>\n",
       "  </thead>\n",
       "  <tbody>\n",
       "    <tr>\n",
       "      <th>0</th>\n",
       "      <td>Health Canada approves AstraZeneca COVID-19 va...</td>\n",
       "      <td>7</td>\n",
       "      <td>NaN</td>\n",
       "      <td>2021</td>\n",
       "      <td>2</td>\n",
       "    </tr>\n",
       "    <tr>\n",
       "      <th>1</th>\n",
       "      <td>COVID-19 in Canada: 'Vaccination passports' a ...</td>\n",
       "      <td>2</td>\n",
       "      <td>NaN</td>\n",
       "      <td>2021</td>\n",
       "      <td>2</td>\n",
       "    </tr>\n",
       "    <tr>\n",
       "      <th>2</th>\n",
       "      <td>Coronavirus variants could fuel Canada's third...</td>\n",
       "      <td>6</td>\n",
       "      <td>NaN</td>\n",
       "      <td>2021</td>\n",
       "      <td>2</td>\n",
       "    </tr>\n",
       "    <tr>\n",
       "      <th>3</th>\n",
       "      <td>Canadian government to extend COVID-19 emergen...</td>\n",
       "      <td>1</td>\n",
       "      <td>NaN</td>\n",
       "      <td>2021</td>\n",
       "      <td>2</td>\n",
       "    </tr>\n",
       "    <tr>\n",
       "      <th>4</th>\n",
       "      <td>Canada: Pfizer is 'extremely committed' to mee...</td>\n",
       "      <td>6</td>\n",
       "      <td>NaN</td>\n",
       "      <td>2021</td>\n",
       "      <td>2</td>\n",
       "    </tr>\n",
       "  </tbody>\n",
       "</table>\n",
       "</div>"
      ],
      "text/plain": [
       "                                               title  score body  year  month\n",
       "0  Health Canada approves AstraZeneca COVID-19 va...      7  NaN  2021      2\n",
       "1  COVID-19 in Canada: 'Vaccination passports' a ...      2  NaN  2021      2\n",
       "2  Coronavirus variants could fuel Canada's third...      6  NaN  2021      2\n",
       "3  Canadian government to extend COVID-19 emergen...      1  NaN  2021      2\n",
       "4  Canada: Pfizer is 'extremely committed' to mee...      6  NaN  2021      2"
      ]
     },
     "execution_count": 13,
     "metadata": {},
     "output_type": "execute_result"
    }
   ],
   "source": [
    "df.drop(labels=['created', 'comms_num', 'url', 'id', 'timestamp'], axis=1, inplace=True)\n",
    "df.head()"
   ]
  },
  {
   "cell_type": "markdown",
   "id": "56fa65d4",
   "metadata": {
    "papermill": {
     "duration": 0.023094,
     "end_time": "2021-10-02T20:22:32.709420",
     "exception": false,
     "start_time": "2021-10-02T20:22:32.686326",
     "status": "completed"
    },
    "tags": []
   },
   "source": [
    "1. Here we dropped the columns created and id because they were not serving any important purpose.  \n",
    "2. We dropped comms_num since it was highly correlated with score.  \n",
    "3. We dropped timestamp, since we already extracted year and date from it.  \n",
    "4. Also, since the column url is more than 50% missing values, we dropped it as well.  \n"
   ]
  },
  {
   "cell_type": "markdown",
   "id": "4d8149b2",
   "metadata": {
    "papermill": {
     "duration": 0.023059,
     "end_time": "2021-10-02T20:22:32.756530",
     "exception": false,
     "start_time": "2021-10-02T20:22:32.733471",
     "status": "completed"
    },
    "tags": []
   },
   "source": [
    "### Data pre-processing \n",
    "#### Steps: \n",
    "- Tokenzation \n",
    "- Stop words \n",
    "- Lemmatization \n",
    "- Stemming \n",
    "\n",
    "Also, it's worth noting that these are reddit posts, so the language is going to be informal."
   ]
  },
  {
   "cell_type": "code",
   "execution_count": 14,
   "id": "b74608b5",
   "metadata": {
    "execution": {
     "iopub.execute_input": "2021-10-02T20:22:32.805998Z",
     "iopub.status.busy": "2021-10-02T20:22:32.805439Z",
     "iopub.status.idle": "2021-10-02T20:22:33.502055Z",
     "shell.execute_reply": "2021-10-02T20:22:33.502595Z",
     "shell.execute_reply.started": "2021-10-02T19:49:14.488953Z"
    },
    "papermill": {
     "duration": 0.722996,
     "end_time": "2021-10-02T20:22:33.502774",
     "exception": false,
     "start_time": "2021-10-02T20:22:32.779778",
     "status": "completed"
    },
    "tags": []
   },
   "outputs": [],
   "source": [
    "# Import libraries for pre-processing\n",
    "import re\n",
    "import string\n",
    "from nltk.corpus import stopwords\n",
    "from nltk.tokenize import word_tokenize\n",
    "from nltk.stem.porter import PorterStemmer\n",
    "from nltk.stem import WordNetLemmatizer\n",
    "from nltk.chunk import RegexpParser"
   ]
  },
  {
   "cell_type": "code",
   "execution_count": 15,
   "id": "1c65f15e",
   "metadata": {
    "execution": {
     "iopub.execute_input": "2021-10-02T20:22:33.553342Z",
     "iopub.status.busy": "2021-10-02T20:22:33.552759Z",
     "iopub.status.idle": "2021-10-02T20:22:33.557166Z",
     "shell.execute_reply": "2021-10-02T20:22:33.557614Z",
     "shell.execute_reply.started": "2021-10-02T18:34:54.657261Z"
    },
    "papermill": {
     "duration": 0.030971,
     "end_time": "2021-10-02T20:22:33.557758",
     "exception": false,
     "start_time": "2021-10-02T20:22:33.526787",
     "status": "completed"
    },
    "tags": []
   },
   "outputs": [],
   "source": [
    "#removing 'nan' values and rows which are empty\n",
    "index = []\n",
    "df.replace(np.nan, '', inplace=True)"
   ]
  },
  {
   "cell_type": "code",
   "execution_count": 16,
   "id": "8de36251",
   "metadata": {
    "execution": {
     "iopub.execute_input": "2021-10-02T20:22:33.608348Z",
     "iopub.status.busy": "2021-10-02T20:22:33.607740Z",
     "iopub.status.idle": "2021-10-02T20:22:33.619288Z",
     "shell.execute_reply": "2021-10-02T20:22:33.619828Z",
     "shell.execute_reply.started": "2021-10-02T18:34:58.124937Z"
    },
    "papermill": {
     "duration": 0.038702,
     "end_time": "2021-10-02T20:22:33.619992",
     "exception": false,
     "start_time": "2021-10-02T20:22:33.581290",
     "status": "completed"
    },
    "tags": []
   },
   "outputs": [
    {
     "data": {
      "text/html": [
       "<div>\n",
       "<style scoped>\n",
       "    .dataframe tbody tr th:only-of-type {\n",
       "        vertical-align: middle;\n",
       "    }\n",
       "\n",
       "    .dataframe tbody tr th {\n",
       "        vertical-align: top;\n",
       "    }\n",
       "\n",
       "    .dataframe thead th {\n",
       "        text-align: right;\n",
       "    }\n",
       "</style>\n",
       "<table border=\"1\" class=\"dataframe\">\n",
       "  <thead>\n",
       "    <tr style=\"text-align: right;\">\n",
       "      <th></th>\n",
       "      <th>title</th>\n",
       "      <th>score</th>\n",
       "      <th>body</th>\n",
       "      <th>year</th>\n",
       "      <th>month</th>\n",
       "      <th>text</th>\n",
       "    </tr>\n",
       "  </thead>\n",
       "  <tbody>\n",
       "    <tr>\n",
       "      <th>0</th>\n",
       "      <td>Health Canada approves AstraZeneca COVID-19 va...</td>\n",
       "      <td>7</td>\n",
       "      <td></td>\n",
       "      <td>2021</td>\n",
       "      <td>2</td>\n",
       "      <td>Health Canada approves AstraZeneca COVID-19 va...</td>\n",
       "    </tr>\n",
       "    <tr>\n",
       "      <th>1</th>\n",
       "      <td>COVID-19 in Canada: 'Vaccination passports' a ...</td>\n",
       "      <td>2</td>\n",
       "      <td></td>\n",
       "      <td>2021</td>\n",
       "      <td>2</td>\n",
       "      <td>COVID-19 in Canada: 'Vaccination passports' a ...</td>\n",
       "    </tr>\n",
       "    <tr>\n",
       "      <th>2</th>\n",
       "      <td>Coronavirus variants could fuel Canada's third...</td>\n",
       "      <td>6</td>\n",
       "      <td></td>\n",
       "      <td>2021</td>\n",
       "      <td>2</td>\n",
       "      <td>Coronavirus variants could fuel Canada's third...</td>\n",
       "    </tr>\n",
       "    <tr>\n",
       "      <th>3</th>\n",
       "      <td>Canadian government to extend COVID-19 emergen...</td>\n",
       "      <td>1</td>\n",
       "      <td></td>\n",
       "      <td>2021</td>\n",
       "      <td>2</td>\n",
       "      <td>Canadian government to extend COVID-19 emergen...</td>\n",
       "    </tr>\n",
       "    <tr>\n",
       "      <th>4</th>\n",
       "      <td>Canada: Pfizer is 'extremely committed' to mee...</td>\n",
       "      <td>6</td>\n",
       "      <td></td>\n",
       "      <td>2021</td>\n",
       "      <td>2</td>\n",
       "      <td>Canada: Pfizer is 'extremely committed' to mee...</td>\n",
       "    </tr>\n",
       "  </tbody>\n",
       "</table>\n",
       "</div>"
      ],
      "text/plain": [
       "                                               title  score body  year  month  \\\n",
       "0  Health Canada approves AstraZeneca COVID-19 va...      7       2021      2   \n",
       "1  COVID-19 in Canada: 'Vaccination passports' a ...      2       2021      2   \n",
       "2  Coronavirus variants could fuel Canada's third...      6       2021      2   \n",
       "3  Canadian government to extend COVID-19 emergen...      1       2021      2   \n",
       "4  Canada: Pfizer is 'extremely committed' to mee...      6       2021      2   \n",
       "\n",
       "                                                text  \n",
       "0  Health Canada approves AstraZeneca COVID-19 va...  \n",
       "1  COVID-19 in Canada: 'Vaccination passports' a ...  \n",
       "2  Coronavirus variants could fuel Canada's third...  \n",
       "3  Canadian government to extend COVID-19 emergen...  \n",
       "4  Canada: Pfizer is 'extremely committed' to mee...  "
      ]
     },
     "execution_count": 16,
     "metadata": {},
     "output_type": "execute_result"
    }
   ],
   "source": [
    "# Combine title and body together in a column for further ease in processing and analysis\n",
    "df['text'] = df['title'] + df['body']\n",
    "df.head()"
   ]
  },
  {
   "cell_type": "code",
   "execution_count": 17,
   "id": "3ea71789",
   "metadata": {
    "execution": {
     "iopub.execute_input": "2021-10-02T20:22:33.674208Z",
     "iopub.status.busy": "2021-10-02T20:22:33.673598Z",
     "iopub.status.idle": "2021-10-02T20:22:33.698055Z",
     "shell.execute_reply": "2021-10-02T20:22:33.697491Z",
     "shell.execute_reply.started": "2021-10-02T20:07:10.473194Z"
    },
    "papermill": {
     "duration": 0.054156,
     "end_time": "2021-10-02T20:22:33.698204",
     "exception": false,
     "start_time": "2021-10-02T20:22:33.644048",
     "status": "completed"
    },
    "tags": []
   },
   "outputs": [],
   "source": [
    "# Convert to lowercase\n",
    "df['text'] = df['text'].apply(lambda text : \" \".join(word.lower() for word in text.split(\" \")))"
   ]
  },
  {
   "cell_type": "code",
   "execution_count": 18,
   "id": "1646d6b5",
   "metadata": {
    "execution": {
     "iopub.execute_input": "2021-10-02T20:22:33.752859Z",
     "iopub.status.busy": "2021-10-02T20:22:33.752183Z",
     "iopub.status.idle": "2021-10-02T20:22:33.778107Z",
     "shell.execute_reply": "2021-10-02T20:22:33.777593Z",
     "shell.execute_reply.started": "2021-10-02T20:07:23.922563Z"
    },
    "papermill": {
     "duration": 0.055725,
     "end_time": "2021-10-02T20:22:33.778256",
     "exception": false,
     "start_time": "2021-10-02T20:22:33.722531",
     "status": "completed"
    },
    "tags": []
   },
   "outputs": [],
   "source": [
    "# Remove stop words\n",
    "stop_words = set(stopwords.words('english'))\n",
    "df['text'] = df['text'].apply(lambda text : \" \".join(word for word in text.split(\" \") if word not in stop_words))"
   ]
  },
  {
   "cell_type": "code",
   "execution_count": null,
   "id": "29c163cf",
   "metadata": {
    "papermill": {
     "duration": 0.024224,
     "end_time": "2021-10-02T20:22:33.827015",
     "exception": false,
     "start_time": "2021-10-02T20:22:33.802791",
     "status": "completed"
    },
    "tags": []
   },
   "outputs": [],
   "source": []
  }
 ],
 "metadata": {
  "kernelspec": {
   "display_name": "Python 3",
   "language": "python",
   "name": "python3"
  },
  "language_info": {
   "codemirror_mode": {
    "name": "ipython",
    "version": 3
   },
   "file_extension": ".py",
   "mimetype": "text/x-python",
   "name": "python",
   "nbconvert_exporter": "python",
   "pygments_lexer": "ipython3",
   "version": "3.7.10"
  },
  "papermill": {
   "default_parameters": {},
   "duration": 12.471116,
   "end_time": "2021-10-02T20:22:34.459793",
   "environment_variables": {},
   "exception": null,
   "input_path": "__notebook__.ipynb",
   "output_path": "__notebook__.ipynb",
   "parameters": {},
   "start_time": "2021-10-02T20:22:21.988677",
   "version": "2.3.3"
  }
 },
 "nbformat": 4,
 "nbformat_minor": 5
}
